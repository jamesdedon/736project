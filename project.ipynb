{
 "cells": [
  {
   "cell_type": "code",
   "execution_count": 2,
   "metadata": {},
   "outputs": [
    {
     "data": {
      "text/plain": [
       "res0: org.apache.spark.sql.SparkSession = org.apache.spark.sql.SparkSession@2fa90773\n"
      ]
     },
     "execution_count": 2,
     "metadata": {},
     "output_type": "execute_result"
    }
   ],
   "source": [
    "spark"
   ]
  },
  {
   "cell_type": "code",
   "execution_count": 3,
   "metadata": {},
   "outputs": [
    {
     "data": {
      "text/plain": [
       "res1: String = 2.3.1\n"
      ]
     },
     "execution_count": 3,
     "metadata": {},
     "output_type": "execute_result"
    }
   ],
   "source": [
    "spark.version"
   ]
  },
  {
   "cell_type": "markdown",
   "metadata": {},
   "source": [
    "# Kaggle Dataset Load"
   ]
  },
  {
   "cell_type": "code",
   "execution_count": 4,
   "metadata": {},
   "outputs": [
    {
     "data": {
      "text/plain": [
       "input: org.apache.spark.rdd.RDD[Array[String]] = MapPartitionsRDD[2] at map at <console>:25\n"
      ]
     },
     "execution_count": 4,
     "metadata": {},
     "output_type": "execute_result"
    }
   ],
   "source": [
    "val input = sc.textFile(\"Scorecard.csv\").map(line =>line.split(\",\"))"
   ]
  },
  {
   "cell_type": "markdown",
   "metadata": {},
   "source": [
    "### Create a header index of the dataset"
   ]
  },
  {
   "cell_type": "code",
   "execution_count": 5,
   "metadata": {},
   "outputs": [
    {
     "data": {
      "text/plain": [
       "header: org.apache.spark.rdd.RDD[Array[String]] = ParallelCollectionRDD[3] at parallelize at <console>:27\n"
      ]
     },
     "execution_count": 5,
     "metadata": {},
     "output_type": "execute_result"
    }
   ],
   "source": [
    "val header = sc.parallelize(input.take(1))"
   ]
  },
  {
   "cell_type": "code",
   "execution_count": 6,
   "metadata": {},
   "outputs": [
    {
     "data": {
      "text/plain": [
       "headerIndex: org.apache.spark.rdd.RDD[(String, Long)] = ZippedWithIndexRDD[6] at zipWithIndex at <console>:29\n"
      ]
     },
     "execution_count": 6,
     "metadata": {},
     "output_type": "execute_result"
    }
   ],
   "source": [
    "val headerIndex = header.map(_.mkString(\",\")).flatMap(line => line.split(\",\")).zipWithIndex"
   ]
  },
  {
   "cell_type": "code",
   "execution_count": 7,
   "metadata": {},
   "outputs": [],
   "source": [
    "//headerIndex.coalesce(1).saveAsTextFile(\"index\")"
   ]
  },
  {
   "cell_type": "markdown",
   "metadata": {},
   "source": [
    "Originally, I exported and imported the data. Not sure why."
   ]
  },
  {
   "cell_type": "code",
   "execution_count": 8,
   "metadata": {},
   "outputs": [],
   "source": [
    "// header.map(_.mkString(\",\")).coalesce(1).saveAsTextFile(\"header\")"
   ]
  },
  {
   "cell_type": "code",
   "execution_count": 9,
   "metadata": {},
   "outputs": [],
   "source": [
    "// val headerLoad = sc.textFile(\"header.csv\")"
   ]
  },
  {
   "cell_type": "code",
   "execution_count": 10,
   "metadata": {},
   "outputs": [],
   "source": [
    "// val headerList= headerLoad.flatMap(line => line.split(\",\"))"
   ]
  },
  {
   "cell_type": "code",
   "execution_count": 11,
   "metadata": {},
   "outputs": [],
   "source": [
    "// val headerIndex = headerList.zipWithIndex"
   ]
  },
  {
   "cell_type": "code",
   "execution_count": 12,
   "metadata": {},
   "outputs": [
    {
     "data": {
      "text/plain": [
       "idxSat: Int = 60\n"
      ]
     },
     "execution_count": 12,
     "metadata": {},
     "output_type": "execute_result"
    }
   ],
   "source": [
    "val idxSat = headerIndex.lookup(\"SAT_AVG\")(0).toInt"
   ]
  },
  {
   "cell_type": "markdown",
   "metadata": {},
   "source": [
    "# DoE Dataset Load Long way"
   ]
  },
  {
   "cell_type": "code",
   "execution_count": 13,
   "metadata": {},
   "outputs": [],
   "source": [
    "/* This isn't working for some reason below when I try to grab the UST RDD\n",
    "\n",
    "val in2016 = sc.textFile(\"MERGED2016_17_PP.csv\")\n",
    "\n",
    "val marked2016 = in2016.map(_.mkString(\",\")).map(x => x + \",2016\").map(line =>line.split(\",\"))\n",
    "\n",
    "val in2015 = sc.textFile(\"MERGED2015_16_PP.csv\")\n",
    "\n",
    "val marked2015 = in2015.map(_.mkString(\",\")).map(x => x + \",2015\").map(line =>line.split(\",\"))\n",
    "\n",
    "val in2014 = sc.textFile(\"MERGED2014_15_PP.csv\")\n",
    "\n",
    "val marked2014 = in2014.map(_.mkString(\",\")).map(x => x + \",2014\").map(line =>line.split(\",\"))\n",
    "\n",
    "val in2013 = sc.textFile(\"MERGED2013_14_PP.csv\")\n",
    "\n",
    "val marked2013 = in2016.map(_.mkString(\",\")).map(x => x + \",2013\").map(line =>line.split(\",\"))\n",
    "\n",
    "val in2012 = sc.textFile(\"MERGED2012_13_PP.csv\")\n",
    "\n",
    "val marked2012 = in2012.map(_.mkString(\",\")).map(x => x + \",2012\").map(line =>line.split(\",\"))\n",
    "\n",
    "val in2011 = sc.textFile(\"MERGED2011_12_PP.csv\")\n",
    "\n",
    "val marked2011 = in2011.map(_.mkString(\",\")).map(x => x + \",2011\").map(line =>line.split(\",\"))\n",
    "\n",
    "val in2010 = sc.textFile(\"MERGED2010_11_PP.csv\")\n",
    "\n",
    "val marked2010 = in2010.map(_.mkString(\",\")).map(x => x + \",2010\").map(line =>line.split(\",\"))\n",
    "\n",
    "val in2009 = sc.textFile(\"MERGED2009_10_PP.csv\")\n",
    "\n",
    "val marked2009 = in2009.map(_.mkString(\",\")).map(x => x + \",2009\").map(line =>line.split(\",\"))\n",
    "\n",
    "val in2008 = sc.textFile(\"MERGED2008_09_PP.csv\")\n",
    "\n",
    "val marked2008 = in2008.map(_.mkString(\",\")).map(x => x + \",2008\").map(line =>line.split(\",\"))\n",
    "\n",
    "val in2007 = sc.textFile(\"MERGED2007_08_PP.csv\")\n",
    "\n",
    "val marked2007 = in2007.map(_.mkString(\",\")).map(x => x + \",2007\").map(line =>line.split(\",\"))\n",
    "\n",
    "*/"
   ]
  },
  {
   "cell_type": "markdown",
   "metadata": {},
   "source": [
    "# DoE Dataset Load concise"
   ]
  },
  {
   "cell_type": "code",
   "execution_count": 14,
   "metadata": {},
   "outputs": [
    {
     "data": {
      "text/plain": [
       "in2016: org.apache.spark.rdd.RDD[Array[String]] = MapPartitionsRDD[12] at map at <console>:25\n",
       "in2015: org.apache.spark.rdd.RDD[Array[String]] = MapPartitionsRDD[16] at map at <console>:29\n",
       "in2014: org.apache.spark.rdd.RDD[Array[String]] = MapPartitionsRDD[20] at map at <console>:33\n",
       "in2013: org.apache.spark.rdd.RDD[Array[String]] = MapPartitionsRDD[24] at map at <console>:37\n",
       "in2012: org.apache.spark.rdd.RDD[Array[String]] = MapPartitionsRDD[28] at map at <console>:41\n",
       "in2011: org.apache.spark.rdd.RDD[Array[String]] = MapPartitionsRDD[32] at map at <console>:45\n",
       "in2010: org.apache.spark.rdd.RDD[Array[String]] = MapPartitionsRDD[36] at map at <console>:49\n",
       "in2009: org.apache.spark.rdd.RDD[Array[String]] = MapPartitionsRDD[40] at map at <console>:53\n",
       "in2008: org.apache.spark.rdd.RDD[Array[String..."
      ]
     },
     "execution_count": 14,
     "metadata": {},
     "output_type": "execute_result"
    }
   ],
   "source": [
    "\n",
    "val in2016 = sc.textFile(\"MERGED2016_17_PP.csv\").map(x => x + \",2016\").map(line =>line.split(\",\"))\n",
    "\n",
    "//val marked2016 = in2016.map(_.mkString(\",\"))\n",
    "\n",
    "val in2015 = sc.textFile(\"MERGED2015_16_PP.csv\").map(x => x + \",2015\").map(line =>line.split(\",\"))\n",
    "\n",
    "//val marked2015 = in2015.map(_.mkString(\",\"))\n",
    "\n",
    "val in2014 = sc.textFile(\"MERGED2014_15_PP.csv\").map(x => x + \",2014\").map(line =>line.split(\",\"))\n",
    "\n",
    "//val marked2014 = in2014.map(_.mkString(\",\"))\n",
    "\n",
    "val in2013 = sc.textFile(\"MERGED2013_14_PP.csv\").map(x => x + \",2013\").map(line =>line.split(\",\"))\n",
    "\n",
    "//val marked2013 = in2016.map(_.mkString(\",\"))\n",
    "\n",
    "val in2012 = sc.textFile(\"MERGED2012_13_PP.csv\").map(x => x + \",2012\").map(line =>line.split(\",\"))\n",
    "\n",
    "//val marked2012 = in2012.map(_.mkString(\",\"))\n",
    "\n",
    "val in2011 = sc.textFile(\"MERGED2011_12_PP.csv\").map(x => x + \",2011\").map(line =>line.split(\",\"))\n",
    "\n",
    "//val marked2011 = in2011.map(_.mkString(\",\"))\n",
    "\n",
    "val in2010 = sc.textFile(\"MERGED2010_11_PP.csv\").map(x => x + \",2010\").map(line =>line.split(\",\"))\n",
    "\n",
    "//val marked2010 = in2010.map(_.mkString(\",\"))\n",
    "\n",
    "val in2009 = sc.textFile(\"MERGED2009_10_PP.csv\").map(x => x + \",2009\").map(line =>line.split(\",\"))\n",
    "\n",
    "//val marked2009 = in2009.map(_.mkString(\",\"))\n",
    "\n",
    "val in2008 = sc.textFile(\"MERGED2008_09_PP.csv\").map(x => x + \",2008\").map(line =>line.split(\",\"))\n",
    "\n",
    "//val marked2008 = in2008.map(_.mkString(\",\"))\n",
    "\n",
    "val in2007 = sc.textFile(\"MERGED2007_08_PP.csv\").map(x => x + \",2007\").map(line =>line.split(\",\"))\n",
    "\n",
    "//val marked2007 = in2007.map(_.mkString(\",\"))\n"
   ]
  },
  {
   "cell_type": "code",
   "execution_count": 15,
   "metadata": {},
   "outputs": [
    {
     "data": {
      "text/plain": [
       "res8: Array[Array[String]] = Array(Array(UNITID, OPEID, OPEID6, INSTNM, CITY, STABBR, ZIP, ACCREDAGENCY, INSTURL, NPCURL, SCH_DEG, HCM2, MAIN, NUMBRANCH, PREDDEG, HIGHDEG, CONTROL, ST_FIPS, REGION, LOCALE, LOCALE2, LATITUDE, LONGITUDE, CCBASIC, CCUGPROF, CCSIZSET, HBCU, PBI, ANNHI, TRIBAL, AANAPII, HSI, NANTI, MENONLY, WOMENONLY, RELAFFIL, ADM_RATE, ADM_RATE_ALL, SATVR25, SATVR75, SATMT25, SATMT75, SATWR25, SATWR75, SATVRMID, SATMTMID, SATWRMID, ACTCM25, ACTCM75, ACTEN25, ACTEN75, ACTMT25, ACTMT75, ACTWR25, ACTWR75, ACTCMMID, ACTENMID, ACTMTMID, ACTWRMID, SAT_AVG, SAT_AVG_ALL, PCIP01, PCIP03, PCIP04, PCIP05, PCIP09, PCIP10, PCIP11, PCIP12, PCIP13, PCIP14, PCIP15, PCIP16, PCIP19, PCIP22, PCIP23, PCIP24, PCIP25, PCIP26, PCIP27, PCIP29, PCIP30, PCIP31, PCIP38, PCIP39, PCIP40, PCIP41, PCIP4..."
      ]
     },
     "execution_count": 15,
     "metadata": {},
     "output_type": "execute_result"
    }
   ],
   "source": [
    "// Test the year concat function. \n",
    "// marked2016.coalesce(1).saveAsTextFile(\"2016test\")\n",
    "in2008.take(2)"
   ]
  },
  {
   "cell_type": "markdown",
   "metadata": {},
   "source": [
    "## Compile the 10 year RDD."
   ]
  },
  {
   "cell_type": "code",
   "execution_count": 16,
   "metadata": {},
   "outputs": [
    {
     "data": {
      "text/plain": [
       "scoreCard10Year: org.apache.spark.rdd.RDD[Array[String]] = UnionRDD[49] at union at <console>:36\n",
       "twoYear: org.apache.spark.rdd.RDD[Array[String]] = UnionRDD[50] at union at <console>:37\n",
       "res9: Array[Array[String]] = Array(Array(UNITID, OPEID, OPEID6, INSTNM, CITY, STABBR, ZIP, ACCREDAGENCY, INSTURL, NPCURL, SCH_DEG, HCM2, MAIN, NUMBRANCH, PREDDEG, HIGHDEG, CONTROL, ST_FIPS, REGION, LOCALE, LOCALE2, LATITUDE, LONGITUDE, CCBASIC, CCUGPROF, CCSIZSET, HBCU, PBI, ANNHI, TRIBAL, AANAPII, HSI, NANTI, MENONLY, WOMENONLY, RELAFFIL, ADM_RATE, ADM_RATE_ALL, SATVR25, SATVR75, SATMT25, SATMT75, SATWR25, SATWR75, SATVRMID, SATMTMID, SATWRMID, ACTCM25, ACTCM75, ACTEN25, ACTEN75, ACTMT25, ACTMT75, ACTWR25, ACTWR75, ACTCMMID, ACTENMID, ACTMTMID, ACTWRMID, SAT_AVG, SAT_AVG_ALL, PCIP01, PCIP03, PCIP04, PCI..."
      ]
     },
     "execution_count": 16,
     "metadata": {},
     "output_type": "execute_result"
    }
   ],
   "source": [
    "val scoreCard10Year = sc.union(in2016, in2015, in2014, in2013, in2012, in2011, in2010, in2009, in2008, in2007)\n",
    "val twoYear = in2016.union(in2015)\n",
    "scoreCard10Year.take(1)\n",
    "twoYear.take(1)"
   ]
  },
  {
   "cell_type": "markdown",
   "metadata": {},
   "source": [
    "### Create a header index of the dataset"
   ]
  },
  {
   "cell_type": "code",
   "execution_count": 17,
   "metadata": {},
   "outputs": [
    {
     "data": {
      "text/plain": [
       "header2016: org.apache.spark.rdd.RDD[Array[String]] = ParallelCollectionRDD[51] at parallelize at <console>:28\n",
       "header2016Index: org.apache.spark.rdd.RDD[(String, Long)] = ZippedWithIndexRDD[54] at zipWithIndex at <console>:30\n",
       "header2007: org.apache.spark.rdd.RDD[Array[String]] = ParallelCollectionRDD[55] at parallelize at <console>:34\n",
       "header2007Index: org.apache.spark.rdd.RDD[(String, Long)] = ZippedWithIndexRDD[58] at zipWithIndex at <console>:36\n"
      ]
     },
     "execution_count": 17,
     "metadata": {},
     "output_type": "execute_result"
    }
   ],
   "source": [
    "val header2016 = sc.parallelize(in2016.take(1))\n",
    "\n",
    "val header2016Index = header2016.map(_.mkString(\",\")).flatMap(line => line.split(\",\")).zipWithIndex\n",
    "\n",
    "// header2016Index.coalesce(1).saveAsTextFile(\"index2016\") //Textfiles only made once\n",
    "\n",
    "val header2007 = sc.parallelize(in2007.take(1))\n",
    "\n",
    "val header2007Index = header2007.map(_.mkString(\",\")).flatMap(line => line.split(\",\")).zipWithIndex\n",
    "\n",
    "// header2007Index.coalesce(1).saveAsTextFile(\"index2007\") // Textfiles only made once"
   ]
  },
  {
   "cell_type": "markdown",
   "metadata": {},
   "source": [
    "## Count the rows of the kaggle compiled dataset"
   ]
  },
  {
   "cell_type": "code",
   "execution_count": 24,
   "metadata": {},
   "outputs": [
    {
     "data": {
      "text/plain": [
       "res14: Long = 124700\n"
      ]
     },
     "execution_count": 24,
     "metadata": {},
     "output_type": "execute_result"
    }
   ],
   "source": [
    "input.count()"
   ]
  },
  {
   "cell_type": "code",
   "execution_count": 25,
   "metadata": {},
   "outputs": [
    {
     "data": {
      "text/plain": [
       "res15: Long = 10708\n"
      ]
     },
     "execution_count": 25,
     "metadata": {},
     "output_type": "execute_result"
    }
   ],
   "source": [
    "input.map( x => x(1)).distinct().count()"
   ]
  },
  {
   "cell_type": "code",
   "execution_count": 28,
   "metadata": {},
   "outputs": [
    {
     "data": {
      "text/plain": [
       "year: org.apache.spark.rdd.RDD[String] = MapPartitionsRDD[72] at map at <console>:29\n",
       "notBlankYear: org.apache.spark.rdd.RDD[Array[String]] = MapPartitionsRDD[73] at filter at <console>:35\n",
       "res18: Long = 24630\n"
      ]
     },
     "execution_count": 28,
     "metadata": {},
     "output_type": "execute_result"
    }
   ],
   "source": [
    "// val year = input.map( x => x(1730))\n",
    "\n",
    "// year.take(1100).foreach(println)\n",
    "\n",
    "// It looks like there are a lot of blank lines in there early on in the dataset. \n",
    "\n",
    "val notBlankYear = input.filter(x => x(1730) != \"\")\n",
    "\n",
    "notBlankYear.count()"
   ]
  },
  {
   "cell_type": "code",
   "execution_count": null,
   "metadata": {},
   "outputs": [],
   "source": [
    "notBlankYear.map(x => x(1730)).take(20)\n",
    "\n",
    "notBlankYear.filter(x => x(1730) contains \"2013\").count()"
   ]
  },
  {
   "cell_type": "markdown",
   "metadata": {},
   "source": [
    "## Count of rows for the compiled DoE Scorecard"
   ]
  },
  {
   "cell_type": "code",
   "execution_count": 19,
   "metadata": {},
   "outputs": [
    {
     "data": {
      "text/plain": [
       "res11: Long = 74181\n"
      ]
     },
     "execution_count": 19,
     "metadata": {},
     "output_type": "execute_result"
    }
   ],
   "source": [
    "scoreCard10Year.count()"
   ]
  },
  {
   "cell_type": "markdown",
   "metadata": {},
   "source": [
    "# St Thomas RDD  \n",
    "This RDD contains all of the St. Thomas results over the years"
   ]
  },
  {
   "cell_type": "code",
   "execution_count": 20,
   "metadata": {},
   "outputs": [
    {
     "data": {
      "text/plain": [
       "ust: org.apache.spark.rdd.RDD[Array[String]] = MapPartitionsRDD[59] at filter at <console>:38\n"
      ]
     },
     "execution_count": 20,
     "metadata": {},
     "output_type": "execute_result"
    }
   ],
   "source": [
    "val ust = scoreCard10Year.filter(x => x(0) contains \"174914\")"
   ]
  },
  {
   "cell_type": "code",
   "execution_count": 21,
   "metadata": {},
   "outputs": [
    {
     "data": {
      "text/plain": [
       "res12: Array[Array[String]] = Array(Array(174914, 00234500, 002345, University of St Thomas, Saint Paul, MN, 55105-1078, Higher Learning Commission, www.stthomas.edu, www.stthomas.edu/financialaid/undergraduate/resources/netpricecalculator/, NULL, 0, 1, 1, 3, 4, 2, 27, 4, 11, NULL, 44.943439, -93.188986, 17, 10, 13, 0, 0, 0, 0, 0, 0, 0, 0, 0, 30, 0.8266, 0.82655521620318, 500, 660, 550, 630, NULL, NULL, 580, 590, NULL, 24, 29, 23, 29, 24, 28, NULL, NULL, 27, 26, 26, NULL, 1204, 1204, 0, 0.0037, 0, 0.0007, 0.0504, 0, 0.0212, 0, 0.0358, 0.0651, 0, 0.0073, 0.0066, 0, 0.0139, 0.0066, 0, 0.0658, 0.0117, 0, 0.0102, 0, 0.0417, 0, 0.0197, 0, 0.0336, 0, 0.0117, 0.0621, 0, 0, 0, 0, 0.0058, 0.0417, 0.4751, 0.0095, 0, 0, 0, 0, 0, 0, 0, 0, 0, 1, 0, 0, 0, 0, 0, 0, 0, 0, 0, 1, 0, 0, 0, 0, 1, 0, 0, 0, ..."
      ]
     },
     "execution_count": 21,
     "metadata": {},
     "output_type": "execute_result"
    }
   ],
   "source": [
    "ust.take(1)"
   ]
  },
  {
   "cell_type": "code",
   "execution_count": 22,
   "metadata": {},
   "outputs": [
    {
     "data": {
      "text/plain": [
       "res13: Long = 10\n"
      ]
     },
     "execution_count": 22,
     "metadata": {},
     "output_type": "execute_result"
    }
   ],
   "source": [
    "ust.count()"
   ]
  },
  {
   "cell_type": "code",
   "execution_count": 31,
   "metadata": {},
   "outputs": [
    {
     "data": {
      "text/plain": [
       "ustHeader: org.apache.spark.rdd.RDD[Array[String]] = UnionRDD[81] at union at <console>:46\n"
      ]
     },
     "execution_count": 31,
     "metadata": {},
     "output_type": "execute_result"
    }
   ],
   "source": [
    "val ustHeader = header2016.union(ust)\n",
    "ustHeader.map(_.mkString(\",\")).coalesce(1).saveAsTextFile(\"ustHeader\")"
   ]
  },
  {
   "cell_type": "markdown",
   "metadata": {},
   "source": [
    "# Create an index of the header "
   ]
  },
  {
   "cell_type": "markdown",
   "metadata": {},
   "source": [
    "Really had a tough time figuring out how to get the header loaded as just a string. Loading it from the original source results in type RDD[Array[String]], so I ended up using a CSV file that I outputed from the original input. Ended up just needing a **flatMap** to keep it in the correct format. "
   ]
  },
  {
   "cell_type": "markdown",
   "metadata": {},
   "source": [
    "# Minnesota Schools  \n",
    "This rdd contains all of the Minnesota universities for a statewide comparison"
   ]
  },
  {
   "cell_type": "code",
   "execution_count": null,
   "metadata": {},
   "outputs": [],
   "source": [
    "val mnColleges = input.filter( x => x(5) contains \"MN\").filter( x => x(1730) contains \"2013\")"
   ]
  },
  {
   "cell_type": "markdown",
   "metadata": {},
   "source": [
    "# Regional Schools  \n",
    "This RDD contains schools from the upper-midwest (Minnesota, Wisconsin, North Dakota, South Dakota, Iowa, Nebraska). This RDD will be used for regional comparisons. "
   ]
  },
  {
   "cell_type": "code",
   "execution_count": null,
   "metadata": {},
   "outputs": [],
   "source": [
    "val upMidWestColleges = scoreCard10Year.filter( x => x(19) contains \"Plains\")"
   ]
  },
  {
   "cell_type": "markdown",
   "metadata": {},
   "source": [
    "# TextFile Saves"
   ]
  },
  {
   "cell_type": "code",
   "execution_count": null,
   "metadata": {},
   "outputs": [],
   "source": [
    "headerIndex.foreach {\n",
    "    case(field, ind) => println(s\"$field is $ind\")\n",
    "}"
   ]
  },
  {
   "cell_type": "code",
   "execution_count": null,
   "metadata": {},
   "outputs": [],
   "source": [
    "ustHeader.map(_.mkString(\",\")).coalesce(1).saveAsTextFile(\"ustHeader\")"
   ]
  },
  {
   "cell_type": "code",
   "execution_count": null,
   "metadata": {},
   "outputs": [],
   "source": [
    "headerIndex.map(_.mkString(\",\")).coalesce(1).saveAsTextFile(\"headerIndex\")"
   ]
  },
  {
   "cell_type": "code",
   "execution_count": null,
   "metadata": {},
   "outputs": [],
   "source": [
    "mnColleges.map(_.mkString(\",\")).coalesce(1).saveAsTextFile(\"Minnesota\")"
   ]
  },
  {
   "cell_type": "code",
   "execution_count": null,
   "metadata": {},
   "outputs": [],
   "source": [
    "val regionalHeader = header.union(upMidWestColleges)"
   ]
  },
  {
   "cell_type": "code",
   "execution_count": null,
   "metadata": {},
   "outputs": [],
   "source": [
    "regionalHeader.map(_.mkString(\",\")).coalesce(1).saveAsTextFile(\"regionalHeader\")"
   ]
  },
  {
   "cell_type": "code",
   "execution_count": null,
   "metadata": {},
   "outputs": [],
   "source": []
  }
 ],
 "metadata": {
  "kernelspec": {
   "display_name": "spylon-kernel",
   "language": "scala",
   "name": "spylon-kernel"
  },
  "language_info": {
   "codemirror_mode": "text/x-scala",
   "file_extension": ".scala",
   "help_links": [
    {
     "text": "MetaKernel Magics",
     "url": "https://github.com/calysto/metakernel/blob/master/metakernel/magics/README.md"
    }
   ],
   "mimetype": "text/x-scala",
   "name": "scala",
   "pygments_lexer": "scala",
   "version": "0.4.1"
  }
 },
 "nbformat": 4,
 "nbformat_minor": 2
}
