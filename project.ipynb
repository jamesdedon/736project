{
 "cells": [
  {
   "cell_type": "code",
   "execution_count": 2,
   "metadata": {},
   "outputs": [
    {
     "data": {
      "text/plain": [
       "res1: org.apache.spark.sql.SparkSession = org.apache.spark.sql.SparkSession@3e38562f\n"
      ]
     },
     "execution_count": 2,
     "metadata": {},
     "output_type": "execute_result"
    }
   ],
   "source": [
    "spark"
   ]
  },
  {
   "cell_type": "code",
   "execution_count": 3,
   "metadata": {},
   "outputs": [
    {
     "data": {
      "text/plain": [
       "res2: String = 2.3.1\n"
      ]
     },
     "execution_count": 3,
     "metadata": {},
     "output_type": "execute_result"
    }
   ],
   "source": [
    "spark.version"
   ]
  },
  {
   "cell_type": "markdown",
   "metadata": {},
   "source": [
    "# Kaggle Dataset Load"
   ]
  },
  {
   "cell_type": "code",
   "execution_count": 4,
   "metadata": {},
   "outputs": [],
   "source": [
    "//val input = sc.textFile(\"Scorecard.csv\").map(line =>line.split(\",\"))"
   ]
  },
  {
   "cell_type": "markdown",
   "metadata": {},
   "source": [
    "### Create a header index of the dataset"
   ]
  },
  {
   "cell_type": "code",
   "execution_count": 5,
   "metadata": {},
   "outputs": [],
   "source": [
    "//val header = sc.parallelize(input.take(1))"
   ]
  },
  {
   "cell_type": "code",
   "execution_count": 6,
   "metadata": {},
   "outputs": [],
   "source": [
    "//val headerIndex = header.map(_.mkString(\",\")).flatMap(line => line.split(\",\")).zipWithIndex"
   ]
  },
  {
   "cell_type": "code",
   "execution_count": 7,
   "metadata": {},
   "outputs": [],
   "source": [
    "//headerIndex.coalesce(1).saveAsTextFile(\"index\")"
   ]
  },
  {
   "cell_type": "markdown",
   "metadata": {},
   "source": [
    "Originally, I exported and imported the data. Not sure why."
   ]
  },
  {
   "cell_type": "code",
   "execution_count": 8,
   "metadata": {},
   "outputs": [],
   "source": [
    "// header.map(_.mkString(\",\")).coalesce(1).saveAsTextFile(\"header\")"
   ]
  },
  {
   "cell_type": "code",
   "execution_count": 9,
   "metadata": {},
   "outputs": [],
   "source": [
    "// val headerLoad = sc.textFile(\"header.csv\")"
   ]
  },
  {
   "cell_type": "code",
   "execution_count": 10,
   "metadata": {},
   "outputs": [],
   "source": [
    "// val headerList= headerLoad.flatMap(line => line.split(\",\"))"
   ]
  },
  {
   "cell_type": "code",
   "execution_count": 11,
   "metadata": {},
   "outputs": [],
   "source": [
    "// val headerIndex = headerList.zipWithIndex"
   ]
  },
  {
   "cell_type": "code",
   "execution_count": 12,
   "metadata": {},
   "outputs": [],
   "source": [
    "//val idxSat = headerIndex.lookup(\"SAT_AVG\")(0).toInt"
   ]
  },
  {
   "cell_type": "markdown",
   "metadata": {},
   "source": [
    "# DoE Dataset Load concise"
   ]
  },
  {
   "cell_type": "code",
   "execution_count": 13,
   "metadata": {},
   "outputs": [
    {
     "data": {
      "text/plain": [
       "in2016: org.apache.spark.rdd.RDD[Array[String]] = MapPartitionsRDD[3] at map at <console>:25\n",
       "in2015: org.apache.spark.rdd.RDD[Array[String]] = MapPartitionsRDD[7] at map at <console>:27\n",
       "in2014: org.apache.spark.rdd.RDD[Array[String]] = MapPartitionsRDD[11] at map at <console>:29\n",
       "in2013: org.apache.spark.rdd.RDD[Array[String]] = MapPartitionsRDD[15] at map at <console>:31\n",
       "in2012: org.apache.spark.rdd.RDD[Array[String]] = MapPartitionsRDD[19] at map at <console>:33\n",
       "in2011: org.apache.spark.rdd.RDD[Array[String]] = MapPartitionsRDD[23] at map at <console>:35\n",
       "in2010: org.apache.spark.rdd.RDD[Array[String]] = MapPartitionsRDD[27] at map at <console>:37\n",
       "in2009: org.apache.spark.rdd.RDD[Array[String]] = MapPartitionsRDD[31] at map at <console>:39\n",
       "in2008: org.apache.spark.rdd.RDD[Array[String]]..."
      ]
     },
     "execution_count": 13,
     "metadata": {},
     "output_type": "execute_result"
    }
   ],
   "source": [
    "\n",
    "val in2016 = sc.textFile(\"MERGED2016_17_PP.csv\").map(x => x + \",2016\").map(line =>line.split(\",\"))\n",
    "\n",
    "val in2015 = sc.textFile(\"MERGED2015_16_PP.csv\").map(x => x + \",2015\").map(line =>line.split(\",\"))\n",
    "\n",
    "val in2014 = sc.textFile(\"MERGED2014_15_PP.csv\").map(x => x + \",2014\").map(line =>line.split(\",\"))\n",
    "\n",
    "val in2013 = sc.textFile(\"MERGED2013_14_PP.csv\").map(x => x + \",2013\").map(line =>line.split(\",\"))\n",
    "\n",
    "val in2012 = sc.textFile(\"MERGED2012_13_PP.csv\").map(x => x + \",2012\").map(line =>line.split(\",\"))\n",
    "\n",
    "val in2011 = sc.textFile(\"MERGED2011_12_PP.csv\").map(x => x + \",2011\").map(line =>line.split(\",\"))\n",
    "\n",
    "val in2010 = sc.textFile(\"MERGED2010_11_PP.csv\").map(x => x + \",2010\").map(line =>line.split(\",\"))\n",
    "\n",
    "val in2009 = sc.textFile(\"MERGED2009_10_PP.csv\").map(x => x + \",2009\").map(line =>line.split(\",\"))\n",
    "\n",
    "val in2008 = sc.textFile(\"MERGED2008_09_PP.csv\").map(x => x + \",2008\").map(line =>line.split(\",\"))\n",
    "\n",
    "val in2007 = sc.textFile(\"MERGED2007_08_PP.csv\").map(x => x + \",2007\").map(line =>line.split(\",\"))\n"
   ]
  },
  {
   "cell_type": "markdown",
   "metadata": {},
   "source": [
    "## Compile the 10 year RDD."
   ]
  },
  {
   "cell_type": "code",
   "execution_count": 14,
   "metadata": {},
   "outputs": [
    {
     "data": {
      "text/plain": [
       "scoreCard10Year: org.apache.spark.rdd.RDD[Array[String]] = UnionRDD[40] at union at <console>:36\n",
       "twoYear: org.apache.spark.rdd.RDD[Array[String]] = UnionRDD[41] at union at <console>:37\n",
       "res12: Array[Array[String]] = Array(Array(UNITID, OPEID, OPEID6, INSTNM, CITY, STABBR, ZIP, ACCREDAGENCY, INSTURL, NPCURL, SCH_DEG, HCM2, MAIN, NUMBRANCH, PREDDEG, HIGHDEG, CONTROL, ST_FIPS, REGION, LOCALE, LOCALE2, LATITUDE, LONGITUDE, CCBASIC, CCUGPROF, CCSIZSET, HBCU, PBI, ANNHI, TRIBAL, AANAPII, HSI, NANTI, MENONLY, WOMENONLY, RELAFFIL, ADM_RATE, ADM_RATE_ALL, SATVR25, SATVR75, SATMT25, SATMT75, SATWR25, SATWR75, SATVRMID, SATMTMID, SATWRMID, ACTCM25, ACTCM75, ACTEN25, ACTEN75, ACTMT25, ACTMT75, ACTWR25, ACTWR75, ACTCMMID, ACTENMID, ACTMTMID, ACTWRMID, SAT_AVG, SAT_AVG_ALL, PCIP01, PCIP03, PCIP04, PC..."
      ]
     },
     "execution_count": 14,
     "metadata": {},
     "output_type": "execute_result"
    }
   ],
   "source": [
    "val scoreCard10Year = sc.union(in2016, in2015, in2014, in2013, in2012, in2011, in2010, in2009, in2008, in2007)\n",
    "val twoYear = in2016.union(in2015)\n",
    "scoreCard10Year.take(1)\n",
    "twoYear.take(1)"
   ]
  },
  {
   "cell_type": "markdown",
   "metadata": {},
   "source": [
    "### Create a header index of the dataset"
   ]
  },
  {
   "cell_type": "code",
   "execution_count": 15,
   "metadata": {},
   "outputs": [
    {
     "data": {
      "text/plain": [
       "header2016: org.apache.spark.rdd.RDD[Array[String]] = ParallelCollectionRDD[42] at parallelize at <console>:28\n",
       "header2016Index: org.apache.spark.rdd.RDD[(String, Long)] = ZippedWithIndexRDD[45] at zipWithIndex at <console>:30\n",
       "header2007: org.apache.spark.rdd.RDD[Array[String]] = ParallelCollectionRDD[46] at parallelize at <console>:34\n",
       "header2007Index: org.apache.spark.rdd.RDD[(String, Long)] = ZippedWithIndexRDD[49] at zipWithIndex at <console>:36\n"
      ]
     },
     "execution_count": 15,
     "metadata": {},
     "output_type": "execute_result"
    }
   ],
   "source": [
    "val header2016 = sc.parallelize(in2016.take(1))\n",
    "\n",
    "val header2016Index = header2016.map(_.mkString(\",\")).flatMap(line => line.split(\",\")).zipWithIndex\n",
    "\n",
    "// header2016Index.coalesce(1).saveAsTextFile(\"index2016\") //Textfiles only made once\n",
    "\n",
    "val header2007 = sc.parallelize(in2007.take(1))\n",
    "\n",
    "val header2007Index = header2007.map(_.mkString(\",\")).flatMap(line => line.split(\",\")).zipWithIndex\n",
    "\n",
    "// header2007Index.coalesce(1).saveAsTextFile(\"index2007\") // Textfiles only made once"
   ]
  },
  {
   "cell_type": "markdown",
   "metadata": {},
   "source": [
    "## Count the rows of the kaggle compiled dataset"
   ]
  },
  {
   "cell_type": "code",
   "execution_count": 16,
   "metadata": {},
   "outputs": [],
   "source": [
    "//input.count()"
   ]
  },
  {
   "cell_type": "code",
   "execution_count": 17,
   "metadata": {},
   "outputs": [],
   "source": [
    "//input.map( x => x(1)).distinct().count()"
   ]
  },
  {
   "cell_type": "code",
   "execution_count": 18,
   "metadata": {},
   "outputs": [],
   "source": [
    "// val year = input.map( x => x(1730))\n",
    "\n",
    "// year.take(1100).foreach(println)\n",
    "\n",
    "// It looks like there are a lot of blank lines in there early on in the dataset. \n",
    "\n",
    "//val notBlankYear = input.filter(x => x(1730) != \"\")\n",
    "\n",
    "//notBlankYear.count()"
   ]
  },
  {
   "cell_type": "code",
   "execution_count": 19,
   "metadata": {},
   "outputs": [],
   "source": [
    "//notBlankYear.map(x => x(1730)).take(20)\n",
    "\n",
    "//notBlankYear.filter(x => x(1730) contains \"2013\").count()"
   ]
  },
  {
   "cell_type": "markdown",
   "metadata": {},
   "source": [
    "## Count of rows for the compiled DoE Scorecard"
   ]
  },
  {
   "cell_type": "code",
   "execution_count": 20,
   "metadata": {},
   "outputs": [
    {
     "data": {
      "text/plain": [
       "res17: Long = 74181\n"
      ]
     },
     "execution_count": 20,
     "metadata": {},
     "output_type": "execute_result"
    }
   ],
   "source": [
    "scoreCard10Year.count()"
   ]
  },
  {
   "cell_type": "markdown",
   "metadata": {},
   "source": [
    "### Number of Schools in the DoE dataset"
   ]
  },
  {
   "cell_type": "code",
   "execution_count": 21,
   "metadata": {},
   "outputs": [
    {
     "data": {
      "text/plain": [
       "res18: Long = 9743\n"
      ]
     },
     "execution_count": 21,
     "metadata": {},
     "output_type": "execute_result"
    }
   ],
   "source": [
    "scoreCard10Year.map(x=> x(1)).distinct().count()"
   ]
  },
  {
   "cell_type": "markdown",
   "metadata": {},
   "source": [
    "# St Thomas RDD  \n",
    "This RDD contains all of the St. Thomas results over the years"
   ]
  },
  {
   "cell_type": "code",
   "execution_count": 22,
   "metadata": {},
   "outputs": [
    {
     "data": {
      "text/plain": [
       "ust: org.apache.spark.rdd.RDD[Array[String]] = MapPartitionsRDD[54] at filter at <console>:38\n"
      ]
     },
     "execution_count": 22,
     "metadata": {},
     "output_type": "execute_result"
    }
   ],
   "source": [
    "val ust = scoreCard10Year.filter(x => x(0) contains \"174914\")"
   ]
  },
  {
   "cell_type": "code",
   "execution_count": 23,
   "metadata": {},
   "outputs": [],
   "source": [
    "//ust.take(1)"
   ]
  },
  {
   "cell_type": "code",
   "execution_count": 24,
   "metadata": {},
   "outputs": [
    {
     "data": {
      "text/plain": [
       "res20: Long = 10\n"
      ]
     },
     "execution_count": 24,
     "metadata": {},
     "output_type": "execute_result"
    }
   ],
   "source": [
    "ust.count()"
   ]
  },
  {
   "cell_type": "code",
   "execution_count": 25,
   "metadata": {},
   "outputs": [
    {
     "data": {
      "text/plain": [
       "ustHeader: org.apache.spark.rdd.RDD[Array[String]] = UnionRDD[55] at union at <console>:42\n"
      ]
     },
     "execution_count": 25,
     "metadata": {},
     "output_type": "execute_result"
    }
   ],
   "source": [
    "val ustHeader = header2016.union(ust)\n",
    "// ustHeader.map(_.mkString(\",\")).coalesce(1).saveAsTextFile(\"ustHeader\")"
   ]
  },
  {
   "cell_type": "code",
   "execution_count": null,
   "metadata": {},
   "outputs": [],
   "source": []
  },
  {
   "cell_type": "markdown",
   "metadata": {},
   "source": [
    "# Create an index of the header "
   ]
  },
  {
   "cell_type": "markdown",
   "metadata": {},
   "source": [
    "Really had a tough time figuring out how to get the header loaded as just a string. Loading it from the original source results in type RDD[Array[String]], so I ended up using a CSV file that I outputed from the original input. Ended up just needing a **flatMap** to keep it in the correct format. "
   ]
  },
  {
   "cell_type": "markdown",
   "metadata": {},
   "source": [
    "# Minnesota Schools  \n",
    "This rdd contains all of the Minnesota universities for a statewide comparison"
   ]
  },
  {
   "cell_type": "code",
   "execution_count": 26,
   "metadata": {},
   "outputs": [
    {
     "data": {
      "text/plain": [
       "mnColleges: org.apache.spark.rdd.RDD[Array[String]] = MapPartitionsRDD[57] at filter at <console>:38\n"
      ]
     },
     "execution_count": 26,
     "metadata": {},
     "output_type": "execute_result"
    }
   ],
   "source": [
    "val mnColleges = scoreCard10Year.filter( x => x(5) contains \"MN\").filter( x => x(1899) contains \"2016\")"
   ]
  },
  {
   "cell_type": "code",
   "execution_count": 27,
   "metadata": {},
   "outputs": [
    {
     "data": {
      "text/plain": [
       "mnColLoc: org.apache.spark.rdd.RDD[String] = MapPartitionsRDD[60] at map at <console>:40\n"
      ]
     },
     "execution_count": 27,
     "metadata": {},
     "output_type": "execute_result"
    }
   ],
   "source": [
    "val mnColLoc = mnColleges.filter(x => x(1899) contains \"2016\").filter(x => x(36) != \"NULL\").map(x => x(3) + \",\" + x(21) + \",\" + x(22) + \",\" + x(36))"
   ]
  },
  {
   "cell_type": "code",
   "execution_count": 28,
   "metadata": {},
   "outputs": [
    {
     "name": "stdout",
     "output_type": "stream",
     "text": [
      "Augsburg University,44.966307,-93.240436,0.4514\n",
      "Bemidji State University,47.482341,-94.874119,0.6408\n",
      "Bethany Lutheran College,44.166649,-93.990805,0.8049\n",
      "Bethel University,45.057655,-93.161663,0.8237\n",
      "Carleton College,44.462318,-93.154666,0.2262\n"
     ]
    }
   ],
   "source": [
    "// mnColLoc.take(5).foreach(println) // Only needs to run once."
   ]
  },
  {
   "cell_type": "markdown",
   "metadata": {},
   "source": [
    "### Create and export RDD to CSV for mapping "
   ]
  },
  {
   "cell_type": "code",
   "execution_count": 29,
   "metadata": {},
   "outputs": [
    {
     "data": {
      "text/plain": [
       "mnColLocHead: Array[String] = Array(Name,Lat,Long,AdmRate)\n",
       "mnLocRDD: org.apache.spark.rdd.RDD[String] = ParallelCollectionRDD[61] at parallelize at <console>:43\n",
       "mnColLocFin: org.apache.spark.rdd.RDD[String] = UnionRDD[62] at union at <console>:44\n"
      ]
     },
     "execution_count": 29,
     "metadata": {},
     "output_type": "execute_result"
    }
   ],
   "source": [
    "val mnColLocHead = Array(\"Name,Lat,Long,AdmRate\")\n",
    "val mnLocRDD = sc.parallelize(mnColLocHead)\n",
    "val mnColLocFin = mnLocRDD.union(mnColLoc)\n",
    "//mnColLocFin.coalesce(1).saveAsTextFile(\"MnSchools\") // only run once"
   ]
  },
  {
   "cell_type": "markdown",
   "metadata": {},
   "source": [
    "# Regional Schools  \n",
    "This RDD contains schools from the upper-midwest (Minnesota, Wisconsin, North Dakota, South Dakota, Iowa, Nebraska). This RDD will be used for regional comparisons. "
   ]
  },
  {
   "cell_type": "code",
   "execution_count": 30,
   "metadata": {},
   "outputs": [
    {
     "data": {
      "text/plain": [
       "upMidWestColleges: org.apache.spark.rdd.RDD[Array[String]] = MapPartitionsRDD[63] at filter at <console>:38\n"
      ]
     },
     "execution_count": 30,
     "metadata": {},
     "output_type": "execute_result"
    }
   ],
   "source": [
    "val upMidWestColleges = scoreCard10Year.filter( x => x(19) contains \"Plains\")"
   ]
  },
  {
   "cell_type": "code",
   "execution_count": 1,
   "metadata": {},
   "outputs": [
    {
     "data": {
      "text/plain": [
       "Intitializing Scala interpreter ..."
      ]
     },
     "metadata": {},
     "output_type": "display_data"
    },
    {
     "data": {
      "text/plain": [
       "Spark Web UI available at http://10.80.102.113:4040\n",
       "SparkContext available as 'sc' (version = 2.3.1, master = local[*], app id = local-1543416756637)\n",
       "SparkSession available as 'spark'\n"
      ]
     },
     "metadata": {},
     "output_type": "display_data"
    },
    {
     "ename": "SyntaxError",
     "evalue": "('invalid syntax', ('python cell', 1, 1, '%matplotlib inline\\n'))",
     "output_type": "error",
     "traceback": [
      "SyntaxError: invalid syntax (python cell, line 1)"
     ]
    }
   ],
   "source": [
    "%%python\n",
    "\n",
    "%matplotlib inline\n",
    "\n",
    "import matplotlib.pyplot as plt\n",
    "import numpy as np\n",
    "import pandas as pd\n",
    "from mpl_toolkits.basemap import Basemap\n",
    "\n",
    "\n",
    "//mnAdmDf = pd.read_csv(\"mnColLocAdm.csv\")\n",
    "\n",
    "fig = pt.figure(figsize=(8, 8))\n",
    "m = Basemap(projection= 'lcc', resolution=None,\n",
    "           width=8E6, height=8E6,\n",
    "           lat_0=44, lon_0=-93,)\n",
    "m.etopo(scale=0.5, alpha=0.5)\n",
    "\n",
    "# Map (long, lat) to (x, y) for plotting\n",
    "x, y = m(-93.188986, 44.943439)\n",
    "plt.plot(x, y, 'ok', markersize=5)\n",
    "plt.text(x, y, 'UniversityofStThomas', fontsize=12);\n",
    "\n",
    "\n",
    "\n",
    "\n"
   ]
  },
  {
   "cell_type": "code",
   "execution_count": null,
   "metadata": {},
   "outputs": [],
   "source": []
  },
  {
   "cell_type": "code",
   "execution_count": null,
   "metadata": {},
   "outputs": [],
   "source": []
  },
  {
   "cell_type": "code",
   "execution_count": null,
   "metadata": {},
   "outputs": [],
   "source": []
  },
  {
   "cell_type": "code",
   "execution_count": null,
   "metadata": {},
   "outputs": [],
   "source": []
  }
 ],
 "metadata": {
  "kernelspec": {
   "display_name": "spylon-kernel",
   "language": "scala",
   "name": "spylon-kernel"
  },
  "language_info": {
   "codemirror_mode": "text/x-scala",
   "file_extension": ".scala",
   "help_links": [
    {
     "text": "MetaKernel Magics",
     "url": "https://github.com/calysto/metakernel/blob/master/metakernel/magics/README.md"
    }
   ],
   "mimetype": "text/x-scala",
   "name": "scala",
   "pygments_lexer": "scala",
   "version": "0.4.1"
  }
 },
 "nbformat": 4,
 "nbformat_minor": 2
}
