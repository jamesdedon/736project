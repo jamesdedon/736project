{
 "cells": [
  {
   "cell_type": "code",
   "execution_count": 21,
   "metadata": {},
   "outputs": [
    {
     "data": {
      "text/plain": [
       "res12: org.apache.spark.sql.SparkSession = org.apache.spark.sql.SparkSession@781ab791\n"
      ]
     },
     "execution_count": 21,
     "metadata": {},
     "output_type": "execute_result"
    }
   ],
   "source": [
    "spark"
   ]
  },
  {
   "cell_type": "code",
   "execution_count": 22,
   "metadata": {},
   "outputs": [
    {
     "data": {
      "text/plain": [
       "res13: String = 2.3.1\n"
      ]
     },
     "execution_count": 22,
     "metadata": {},
     "output_type": "execute_result"
    }
   ],
   "source": [
    "spark.version"
   ]
  },
  {
   "cell_type": "code",
   "execution_count": 23,
   "metadata": {},
   "outputs": [
    {
     "data": {
      "text/plain": [
       "sqlContext: org.apache.spark.sql.SQLContext = org.apache.spark.sql.SQLContext@73fa8021\n",
       "import sqlContext.implicits._\n"
      ]
     },
     "execution_count": 23,
     "metadata": {},
     "output_type": "execute_result"
    }
   ],
   "source": [
    "val sqlContext = new org.apache.spark.sql.SQLContext(sc)\n",
    "import sqlContext.implicits._"
   ]
  },
  {
   "cell_type": "markdown",
   "metadata": {},
   "source": [
    "# DoE Dataset Load concise"
   ]
  },
  {
   "cell_type": "code",
   "execution_count": 24,
   "metadata": {},
   "outputs": [
    {
     "data": {
      "text/plain": [
       "inHeader: org.apache.spark.rdd.RDD[Array[String]] = MapPartitionsRDD[69] at map at <console>:35\n",
       "in2016: org.apache.spark.rdd.RDD[Array[String]] = MapPartitionsRDD[73] at map at <console>:37\n",
       "in2015: org.apache.spark.rdd.RDD[Array[String]] = MapPartitionsRDD[77] at map at <console>:39\n",
       "in2014: org.apache.spark.rdd.RDD[Array[String]] = MapPartitionsRDD[81] at map at <console>:41\n",
       "in2013: org.apache.spark.rdd.RDD[Array[String]] = MapPartitionsRDD[85] at map at <console>:43\n",
       "in2012: org.apache.spark.rdd.RDD[Array[String]] = MapPartitionsRDD[89] at map at <console>:45\n",
       "in2011: org.apache.spark.rdd.RDD[Array[String]] = MapPartitionsRDD[93] at map at <console>:47\n",
       "in2010: org.apache.spark.rdd.RDD[Array[String]] = MapPartitionsRDD[97] at map at <console>:49\n",
       "in2009: org.apache.spark.rdd.RDD[Array[Stri..."
      ]
     },
     "execution_count": 24,
     "metadata": {},
     "output_type": "execute_result"
    }
   ],
   "source": [
    "val inHeader = sc.textFile(\"MERGED2016_17_PP.csv\").map(x => x + \",YEAR\").map(line =>line.split(\",\"))\n",
    "\n",
    "val in2016 = sc.textFile(\"MERGED2016_17_PP.csv\").map(x => x + \",2016\").map(line =>line.split(\",\"))\n",
    "\n",
    "val in2015 = sc.textFile(\"MERGED2015_16_PP.csv\").map(x => x + \",2015\").map(line =>line.split(\",\"))\n",
    "\n",
    "val in2014 = sc.textFile(\"MERGED2014_15_PP.csv\").map(x => x + \",2014\").map(line =>line.split(\",\"))\n",
    "\n",
    "val in2013 = sc.textFile(\"MERGED2013_14_PP.csv\").map(x => x + \",2013\").map(line =>line.split(\",\"))\n",
    "\n",
    "val in2012 = sc.textFile(\"MERGED2012_13_PP.csv\").map(x => x + \",2012\").map(line =>line.split(\",\"))\n",
    "\n",
    "val in2011 = sc.textFile(\"MERGED2011_12_PP.csv\").map(x => x + \",2011\").map(line =>line.split(\",\"))\n",
    "\n",
    "val in2010 = sc.textFile(\"MERGED2010_11_PP.csv\").map(x => x + \",2010\").map(line =>line.split(\",\"))\n",
    "\n",
    "val in2009 = sc.textFile(\"MERGED2009_10_PP.csv\").map(x => x + \",2009\").map(line =>line.split(\",\"))\n",
    "\n",
    "val in2008 = sc.textFile(\"MERGED2008_09_PP.csv\").map(x => x + \",2008\").map(line =>line.split(\",\"))\n",
    "\n",
    "val in2007 = sc.textFile(\"MERGED2007_08_PP.csv\").map(x => x + \",2007\").map(line =>line.split(\",\"))\n"
   ]
  },
  {
   "cell_type": "markdown",
   "metadata": {},
   "source": [
    "## Compile the 10 year RDD."
   ]
  },
  {
   "cell_type": "code",
   "execution_count": 25,
   "metadata": {},
   "outputs": [
    {
     "data": {
      "text/plain": [
       "scoreCard10Year: org.apache.spark.rdd.RDD[Array[String]] = UnionRDD[110] at union at <console>:46\n"
      ]
     },
     "execution_count": 25,
     "metadata": {},
     "output_type": "execute_result"
    }
   ],
   "source": [
    "val scoreCard10Year = sc.union(in2016, in2015, in2014, in2013, in2012, in2011, in2010, in2009, in2008, in2007)"
   ]
  },
  {
   "cell_type": "markdown",
   "metadata": {},
   "source": [
    "### Make sure that my added year column is present in all of the load RDDs. "
   ]
  },
  {
   "cell_type": "code",
   "execution_count": 26,
   "metadata": {},
   "outputs": [],
   "source": [
    "// scoreCard10Year.map(x => x(1899)).map(_.mkString(\"\")).take(1) // I verified index 1899 in all of my load RDDs"
   ]
  },
  {
   "cell_type": "code",
   "execution_count": 27,
   "metadata": {},
   "outputs": [],
   "source": [
    "//scoreCard10Year.coalesce(1).map(_.mkString(\",\")).saveAsTextFile(\"scoreCard10Year\") \n",
    "// I exported a csv of the compiled dataset to play around with on the databricks platform. I decided to do that after watching the Spark videos in the week 12 assignment. \n"
   ]
  },
  {
   "cell_type": "markdown",
   "metadata": {},
   "source": [
    "# Create a header index of the dataset"
   ]
  },
  {
   "cell_type": "code",
   "execution_count": 28,
   "metadata": {},
   "outputs": [
    {
     "data": {
      "text/plain": [
       "header2016: org.apache.spark.rdd.RDD[Array[String]] = ParallelCollectionRDD[111] at parallelize at <console>:41\n",
       "header2016Index: org.apache.spark.rdd.RDD[(String, Long)] = ZippedWithIndexRDD[114] at zipWithIndex at <console>:43\n"
      ]
     },
     "execution_count": 28,
     "metadata": {},
     "output_type": "execute_result"
    }
   ],
   "source": [
    "val header2016 = sc.parallelize(inHeader.take(1))\n",
    "\n",
    "val header2016Index = header2016.map(_.mkString(\",\")).flatMap(line => line.split(\",\")).zipWithIndex\n",
    "\n",
    "// header2016Index.coalesce(1).saveAsTextFile(\"index\") //Textfiles only made once\n"
   ]
  },
  {
   "cell_type": "markdown",
   "metadata": {},
   "source": [
    "## Count of rows for the compiled DoE Scorecard"
   ]
  },
  {
   "cell_type": "code",
   "execution_count": 29,
   "metadata": {},
   "outputs": [
    {
     "data": {
      "text/plain": [
       "res16: Long = 74181\n"
      ]
     },
     "execution_count": 29,
     "metadata": {},
     "output_type": "execute_result"
    }
   ],
   "source": [
    "scoreCard10Year.count()"
   ]
  },
  {
   "cell_type": "markdown",
   "metadata": {},
   "source": [
    "### Number of Schools in the DoE dataset"
   ]
  },
  {
   "cell_type": "code",
   "execution_count": 30,
   "metadata": {},
   "outputs": [
    {
     "data": {
      "text/plain": [
       "res17: Long = 9743\n"
      ]
     },
     "execution_count": 30,
     "metadata": {},
     "output_type": "execute_result"
    }
   ],
   "source": [
    "scoreCard10Year.map(x=> x(1)).distinct().count()"
   ]
  },
  {
   "cell_type": "markdown",
   "metadata": {},
   "source": [
    "---"
   ]
  },
  {
   "cell_type": "markdown",
   "metadata": {},
   "source": [
    "# St Thomas RDD  \n",
    "This RDD contains all of the St. Thomas results over the years in RDD and dataframe format.\n",
    "\n",
    "Bummed I have to switch back to SQL for this stuff...."
   ]
  },
  {
   "cell_type": "code",
   "execution_count": 31,
   "metadata": {},
   "outputs": [
    {
     "data": {
      "text/plain": [
       "ust: org.apache.spark.rdd.RDD[Array[String]] = MapPartitionsRDD[119] at filter at <console>:48\n"
      ]
     },
     "execution_count": 31,
     "metadata": {},
     "output_type": "execute_result"
    }
   ],
   "source": [
    "val ust = scoreCard10Year.filter(x => x(0) contains \"174914\")\n",
    "// df.filter(df(\"age\") > 21).show()"
   ]
  },
  {
   "cell_type": "code",
   "execution_count": 32,
   "metadata": {},
   "outputs": [
    {
     "data": {
      "text/plain": [
       "res18: Array[Array[String]] = Array(Array(174914, 00234500, 002345, University of St Thomas, Saint Paul, MN, 55105-1078, Higher Learning Commission, www.stthomas.edu, www.stthomas.edu/financialaid/undergraduate/resources/netpricecalculator/, NULL, 0, 1, 1, 3, 4, 2, 27, 4, 11, NULL, 44.943439, -93.188986, 17, 10, 13, 0, 0, 0, 0, 0, 0, 0, 0, 0, 30, 0.8266, 0.82655521620318, 500, 660, 550, 630, NULL, NULL, 580, 590, NULL, 24, 29, 23, 29, 24, 28, NULL, NULL, 27, 26, 26, NULL, 1204, 1204, 0, 0.0037, 0, 0.0007, 0.0504, 0, 0.0212, 0, 0.0358, 0.0651, 0, 0.0073, 0.0066, 0, 0.0139, 0.0066, 0, 0.0658, 0.0117, 0, 0.0102, 0, 0.0417, 0, 0.0197, 0, 0.0336, 0, 0.0117, 0.0621, 0, 0, 0, 0, 0.0058, 0.0417, 0.4751, 0.0095, 0, 0, 0, 0, 0, 0, 0, 0, 0, 1, 0, 0, 0, 0, 0, 0, 0, 0, 0, 1, 0, 0, 0, 0, 1, 0, 0, 0, ..."
      ]
     },
     "execution_count": 32,
     "metadata": {},
     "output_type": "execute_result"
    }
   ],
   "source": [
    "ust.take(1)"
   ]
  },
  {
   "cell_type": "code",
   "execution_count": 33,
   "metadata": {},
   "outputs": [
    {
     "data": {
      "text/plain": [
       "res19: Long = 10\n"
      ]
     },
     "execution_count": 33,
     "metadata": {},
     "output_type": "execute_result"
    }
   ],
   "source": [
    "ust.count()"
   ]
  },
  {
   "cell_type": "code",
   "execution_count": 34,
   "metadata": {},
   "outputs": [
    {
     "data": {
      "text/plain": [
       "ustHeader: org.apache.spark.rdd.RDD[Array[String]] = UnionRDD[120] at union at <console>:53\n"
      ]
     },
     "execution_count": 34,
     "metadata": {},
     "output_type": "execute_result"
    }
   ],
   "source": [
    "val ustHeader = header2016.union(ust)\n",
    "// ustHeader.map(_.mkString(\",\")).coalesce(1).saveAsTextFile(\"ustHeader\")"
   ]
  },
  {
   "cell_type": "markdown",
   "metadata": {},
   "source": [
    "---"
   ]
  },
  {
   "cell_type": "markdown",
   "metadata": {},
   "source": [
    "# Regional Peers RDD\n",
    "\n",
    "This RDD filters region 4 (upper midwest/plains), Schools that offer graduate degrees as the highest degree, and a carnegie classification of 4 year, medium size, highly residential. "
   ]
  },
  {
   "cell_type": "code",
   "execution_count": 35,
   "metadata": {},
   "outputs": [
    {
     "data": {
      "text/plain": [
       "regionalPeers: org.apache.spark.rdd.RDD[Array[String]] = MapPartitionsRDD[123] at filter at <console>:48\n"
      ]
     },
     "execution_count": 35,
     "metadata": {},
     "output_type": "execute_result"
    }
   ],
   "source": [
    "val regionalPeers = scoreCard10Year.filter(x => x(18) == \"4\").filter(x => x(15) == \"4\").filter(x => x(25) == \"13\")"
   ]
  },
  {
   "cell_type": "code",
   "execution_count": 36,
   "metadata": {},
   "outputs": [
    {
     "data": {
      "text/plain": [
       "res20: Long = 20\n"
      ]
     },
     "execution_count": 36,
     "metadata": {},
     "output_type": "execute_result"
    }
   ],
   "source": [
    "regionalPeers.count()"
   ]
  },
  {
   "cell_type": "markdown",
   "metadata": {},
   "source": [
    "Now we see who we're dealing with. "
   ]
  },
  {
   "cell_type": "code",
   "execution_count": 37,
   "metadata": {},
   "outputs": [
    {
     "data": {
      "text/plain": [
       "res21: Array[String] = Array(Emporia State University, Bemidji State University, Hamline University, Minnesota State University Moorhead, Saint Mary's University of Minnesota, University of St Thomas, St Catherine University, Southwest Minnesota State University, Winona State University, Drury University, Missouri Western State University, Missouri University of Science and Technology, Truman State University, Northwest Missouri State University, Southeast Missouri State University, Webster University, University of Nebraska at Kearney, Wayne State College, Black Hills State University, University of South Dakota)\n"
      ]
     },
     "execution_count": 37,
     "metadata": {},
     "output_type": "execute_result"
    }
   ],
   "source": [
    "regionalPeers.filter(x => x(1899) == \"2016\").map(x => x(3)).collect()\n"
   ]
  },
  {
   "cell_type": "markdown",
   "metadata": {},
   "source": [
    "---"
   ]
  },
  {
   "cell_type": "markdown",
   "metadata": {},
   "source": [
    "# National Peers RDD"
   ]
  },
  {
   "cell_type": "code",
   "execution_count": 46,
   "metadata": {},
   "outputs": [
    {
     "data": {
      "text/plain": [
       "nationalPeers: org.apache.spark.rdd.RDD[Array[String]] = MapPartitionsRDD[154] at filter at <console>:48\n"
      ]
     },
     "execution_count": 46,
     "metadata": {},
     "output_type": "execute_result"
    }
   ],
   "source": [
    "val nationalPeers = scoreCard10Year.filter(x => x(15) == \"4\").filter(x => x(25) == \"13\")"
   ]
  },
  {
   "cell_type": "markdown",
   "metadata": {},
   "source": [
    "---"
   ]
  },
  {
   "cell_type": "markdown",
   "metadata": {},
   "source": [
    "# Minnesota Schools  \n",
    "This rdd contains all of the Minnesota universities for a statewide comparison"
   ]
  },
  {
   "cell_type": "code",
   "execution_count": 40,
   "metadata": {},
   "outputs": [
    {
     "data": {
      "text/plain": [
       "mnColleges: org.apache.spark.rdd.RDD[Array[String]] = MapPartitionsRDD[130] at filter at <console>:48\n"
      ]
     },
     "execution_count": 40,
     "metadata": {},
     "output_type": "execute_result"
    }
   ],
   "source": [
    "val mnColleges = scoreCard10Year.filter( x => x(5) contains \"MN\").filter( x => x(1899) contains \"2016\")"
   ]
  },
  {
   "cell_type": "code",
   "execution_count": 41,
   "metadata": {},
   "outputs": [
    {
     "data": {
      "text/plain": [
       "mnColLoc: org.apache.spark.rdd.RDD[String] = MapPartitionsRDD[133] at map at <console>:50\n"
      ]
     },
     "execution_count": 41,
     "metadata": {},
     "output_type": "execute_result"
    }
   ],
   "source": [
    "val mnColLoc = mnColleges.filter(x => x(1899) contains \"2016\").filter(x => x(36) != \"NULL\").map(x => x(3) + \",\" + x(21) + \",\" + x(22) + \",\" + x(36))"
   ]
  },
  {
   "cell_type": "code",
   "execution_count": 42,
   "metadata": {},
   "outputs": [],
   "source": [
    "// mnColLoc.take(5).foreach(println) // Only needs to run once."
   ]
  },
  {
   "cell_type": "markdown",
   "metadata": {},
   "source": [
    "---"
   ]
  },
  {
   "cell_type": "markdown",
   "metadata": {},
   "source": [
    "# SAT Scores"
   ]
  },
  {
   "cell_type": "markdown",
   "metadata": {},
   "source": [
    "### St Thomas"
   ]
  },
  {
   "cell_type": "code",
   "execution_count": 83,
   "metadata": {},
   "outputs": [
    {
     "data": {
      "text/plain": [
       "res63: Double = 1204.0\n"
      ]
     },
     "execution_count": 83,
     "metadata": {},
     "output_type": "execute_result"
    }
   ],
   "source": [
    "ust.filter(x => x(1899) == \"2016\").map(x => x(59)).filter(x => x != \"NULL\").map(_.toInt).mean()"
   ]
  },
  {
   "cell_type": "markdown",
   "metadata": {},
   "source": [
    "### Minnesota SAT average"
   ]
  },
  {
   "cell_type": "code",
   "execution_count": 43,
   "metadata": {},
   "outputs": [
    {
     "data": {
      "text/plain": [
       "res25: Double = 1102.0666666666668\n"
      ]
     },
     "execution_count": 43,
     "metadata": {},
     "output_type": "execute_result"
    }
   ],
   "source": [
    "mnColleges.filter(x => x(1899) == \"2016\").map(x => x(59)).filter(x => x != \"NULL\").map(_.toInt).mean()"
   ]
  },
  {
   "cell_type": "markdown",
   "metadata": {},
   "source": [
    "### Regional Peers SAT Average"
   ]
  },
  {
   "cell_type": "code",
   "execution_count": 44,
   "metadata": {},
   "outputs": [
    {
     "data": {
      "text/plain": [
       "res26: Double = 1080.7222222222224\n"
      ]
     },
     "execution_count": 44,
     "metadata": {},
     "output_type": "execute_result"
    }
   ],
   "source": [
    "regionalPeers.filter(x => x(1899) == \"2016\").map(x => x(59)).filter(x => x != \"NULL\").map(_.toInt).mean()\n"
   ]
  },
  {
   "cell_type": "markdown",
   "metadata": {},
   "source": [
    "### National Peers SAT Average"
   ]
  },
  {
   "cell_type": "code",
   "execution_count": 47,
   "metadata": {},
   "outputs": [
    {
     "data": {
      "text/plain": [
       "res28: Double = 1040.932432432432\n"
      ]
     },
     "execution_count": 47,
     "metadata": {},
     "output_type": "execute_result"
    }
   ],
   "source": [
    "nationalPeers.filter(x => x(1899) == \"2016\").map(x => x(59)).filter(x => x != \"NULL\").filter(x => x != \"SAT_AVG\").map(_.toInt).mean()"
   ]
  },
  {
   "cell_type": "markdown",
   "metadata": {},
   "source": [
    "### National SAT Average"
   ]
  },
  {
   "cell_type": "code",
   "execution_count": 45,
   "metadata": {},
   "outputs": [
    {
     "data": {
      "text/plain": [
       "res27: Double = 1059.2575757575776\n"
      ]
     },
     "execution_count": 45,
     "metadata": {},
     "output_type": "execute_result"
    }
   ],
   "source": [
    "scoreCard10Year.filter(x => x(1899) == \"2016\").map(x => x(59)).filter(x => x != \"NULL\").filter(x => x != \"SAT_AVG\").map(_.toInt).mean()"
   ]
  },
  {
   "cell_type": "markdown",
   "metadata": {},
   "source": [
    "### Catholic Schools Average"
   ]
  },
  {
   "cell_type": "code",
   "execution_count": 48,
   "metadata": {},
   "outputs": [
    {
     "data": {
      "text/plain": [
       "res29: Double = 1057.0273972602745\n"
      ]
     },
     "execution_count": 48,
     "metadata": {},
     "output_type": "execute_result"
    }
   ],
   "source": [
    "scoreCard10Year.filter(x => x(1899) == \"2016\").filter(x => x(35) == \"30\").map(x => x(59)).filter(x => x != \"NULL\").filter(x => x != \"SAT_AVG\").map(_.toInt).mean()"
   ]
  },
  {
   "cell_type": "markdown",
   "metadata": {},
   "source": [
    "---"
   ]
  },
  {
   "cell_type": "markdown",
   "metadata": {},
   "source": [
    "# % Pell Grants"
   ]
  },
  {
   "cell_type": "markdown",
   "metadata": {},
   "source": [
    "### St. Thomas"
   ]
  },
  {
   "cell_type": "code",
   "execution_count": 82,
   "metadata": {},
   "outputs": [
    {
     "data": {
      "text/plain": [
       "res62: Double = 0.17159999907016754\n"
      ]
     },
     "execution_count": 82,
     "metadata": {},
     "output_type": "execute_result"
    }
   ],
   "source": [
    "ust.filter(x => x(1899) == \"2016\").map(x => x(385)).filter(x => x != \"NULL\").map(_.toFloat).mean()"
   ]
  },
  {
   "cell_type": "markdown",
   "metadata": {},
   "source": [
    "### Minnesota average"
   ]
  },
  {
   "cell_type": "code",
   "execution_count": 49,
   "metadata": {},
   "outputs": [
    {
     "data": {
      "text/plain": [
       "res30: Double = 0.41704077696771297\n"
      ]
     },
     "execution_count": 49,
     "metadata": {},
     "output_type": "execute_result"
    }
   ],
   "source": [
    "mnColleges.filter(x => x(1899) == \"2016\").map(x => x(385)).filter(x => x != \"NULL\").map(_.toFloat).mean()"
   ]
  },
  {
   "cell_type": "markdown",
   "metadata": {},
   "source": [
    "### Regional Peers Average"
   ]
  },
  {
   "cell_type": "code",
   "execution_count": 50,
   "metadata": {},
   "outputs": [
    {
     "data": {
      "text/plain": [
       "res31: Double = 0.30709999911487107\n"
      ]
     },
     "execution_count": 50,
     "metadata": {},
     "output_type": "execute_result"
    }
   ],
   "source": [
    "regionalPeers.filter(x => x(1899) == \"2016\").map(x => x(385)).filter(x => x != \"NULL\").map(_.toFloat).mean()\n"
   ]
  },
  {
   "cell_type": "markdown",
   "metadata": {},
   "source": [
    "### National Peers Average"
   ]
  },
  {
   "cell_type": "code",
   "execution_count": 53,
   "metadata": {},
   "outputs": [
    {
     "data": {
      "text/plain": [
       "res34: Double = 0.36608650261090575\n"
      ]
     },
     "execution_count": 53,
     "metadata": {},
     "output_type": "execute_result"
    }
   ],
   "source": [
    "nationalPeers.filter(x => x(1899) == \"2016\").map(x => x(385)).filter(x => x != \"NULL\").filter(x => x != \"PCTPELL\").map(_.toFloat).mean()"
   ]
  },
  {
   "cell_type": "markdown",
   "metadata": {},
   "source": [
    "### National Average"
   ]
  },
  {
   "cell_type": "code",
   "execution_count": 55,
   "metadata": {},
   "outputs": [
    {
     "data": {
      "text/plain": [
       "res35: Double = 0.49741185117230924\n"
      ]
     },
     "execution_count": 55,
     "metadata": {},
     "output_type": "execute_result"
    }
   ],
   "source": [
    "scoreCard10Year.filter(x => x(1899) == \"2016\").map(x => x(385)).filter(x => x != \"NULL\").filter(x => x != \"PCTPELL\").map(_.toFloat).mean()"
   ]
  },
  {
   "cell_type": "markdown",
   "metadata": {},
   "source": [
    "### Catholic Schools Average"
   ]
  },
  {
   "cell_type": "code",
   "execution_count": 57,
   "metadata": {},
   "outputs": [
    {
     "data": {
      "text/plain": [
       "res37: Double = 0.3206765762454752\n"
      ]
     },
     "execution_count": 57,
     "metadata": {},
     "output_type": "execute_result"
    }
   ],
   "source": [
    "scoreCard10Year.filter(x => x(1899) == \"2016\").filter(x => x(35) == \"30\").map(x => x(385)).filter(x => x != \"NULL\").filter(x => x != \"PCTPELL\").map(_.toFloat).mean()"
   ]
  },
  {
   "cell_type": "markdown",
   "metadata": {},
   "source": [
    "---"
   ]
  },
  {
   "cell_type": "markdown",
   "metadata": {},
   "source": [
    "# % Federal Loans"
   ]
  },
  {
   "cell_type": "markdown",
   "metadata": {},
   "source": [
    "### St Thomas"
   ]
  },
  {
   "cell_type": "code",
   "execution_count": 81,
   "metadata": {},
   "outputs": [
    {
     "data": {
      "text/plain": [
       "res61: Double = 0.5277000069618225\n"
      ]
     },
     "execution_count": 81,
     "metadata": {},
     "output_type": "execute_result"
    }
   ],
   "source": [
    "ust.filter(x => x(1899) == \"2016\").map(x => x(437)).filter(x => x != \"NULL\").map(_.toFloat).mean()"
   ]
  },
  {
   "cell_type": "markdown",
   "metadata": {},
   "source": [
    "### Minnesota average"
   ]
  },
  {
   "cell_type": "code",
   "execution_count": 58,
   "metadata": {},
   "outputs": [
    {
     "data": {
      "text/plain": [
       "res38: Double = 0.534766020126713\n"
      ]
     },
     "execution_count": 58,
     "metadata": {},
     "output_type": "execute_result"
    }
   ],
   "source": [
    "mnColleges.filter(x => x(1899) == \"2016\").map(x => x(437)).filter(x => x != \"NULL\").map(_.toFloat).mean()"
   ]
  },
  {
   "cell_type": "markdown",
   "metadata": {},
   "source": [
    "### Regional Peers Average"
   ]
  },
  {
   "cell_type": "code",
   "execution_count": 59,
   "metadata": {},
   "outputs": [
    {
     "data": {
      "text/plain": [
       "res39: Double = 0.5363800004124641\n"
      ]
     },
     "execution_count": 59,
     "metadata": {},
     "output_type": "execute_result"
    }
   ],
   "source": [
    "regionalPeers.filter(x => x(1899) == \"2016\").map(x => x(437)).filter(x => x != \"NULL\").map(_.toFloat).mean()\n"
   ]
  },
  {
   "cell_type": "markdown",
   "metadata": {},
   "source": [
    "### National Peers Average"
   ]
  },
  {
   "cell_type": "code",
   "execution_count": 62,
   "metadata": {},
   "outputs": [
    {
     "data": {
      "text/plain": [
       "res42: Double = 0.5871932504732915\n"
      ]
     },
     "execution_count": 62,
     "metadata": {},
     "output_type": "execute_result"
    }
   ],
   "source": [
    "nationalPeers.filter(x => x(1899) == \"2016\").map(x => x(437)).filter(x => x != \"NULL\").filter(x => x != \"PCTFLOAN\").map(_.toFloat).mean()"
   ]
  },
  {
   "cell_type": "markdown",
   "metadata": {},
   "source": [
    "### National Average"
   ]
  },
  {
   "cell_type": "code",
   "execution_count": 63,
   "metadata": {},
   "outputs": [
    {
     "data": {
      "text/plain": [
       "res43: Double = 0.4905751478348196\n"
      ]
     },
     "execution_count": 63,
     "metadata": {},
     "output_type": "execute_result"
    }
   ],
   "source": [
    "scoreCard10Year.filter(x => x(1899) == \"2016\").map(x => x(437)).filter(x => x != \"NULL\").filter(x => x != \"PCTFLOAN\").map(_.toFloat).mean()"
   ]
  },
  {
   "cell_type": "markdown",
   "metadata": {},
   "source": [
    "### Catholic Schools Average"
   ]
  },
  {
   "cell_type": "code",
   "execution_count": 64,
   "metadata": {},
   "outputs": [
    {
     "data": {
      "text/plain": [
       "res44: Double = 0.5970229740581802\n"
      ]
     },
     "execution_count": 64,
     "metadata": {},
     "output_type": "execute_result"
    }
   ],
   "source": [
    "scoreCard10Year.filter(x => x(1899) == \"2016\").filter(x => x(35) == \"30\").map(x => x(437)).filter(x => x != \"NULL\").filter(x => x != \"PCTFLOAN\").map(_.toFloat).mean()"
   ]
  },
  {
   "cell_type": "markdown",
   "metadata": {},
   "source": [
    "---"
   ]
  },
  {
   "cell_type": "markdown",
   "metadata": {},
   "source": [
    "# Median Debt"
   ]
  },
  {
   "cell_type": "markdown",
   "metadata": {},
   "source": [
    "### St. Thomas"
   ]
  },
  {
   "cell_type": "code",
   "execution_count": 87,
   "metadata": {},
   "outputs": [
    {
     "data": {
      "text/plain": [
       "res66: Double = 25000.0\n"
      ]
     },
     "execution_count": 87,
     "metadata": {},
     "output_type": "execute_result"
    }
   ],
   "source": [
    "ust.filter(x => x(1899) == \"2016\").map(x => x(1504)).filter(x => x != \"NULL\").filter(x => x != \"PrivacySuppressed\").map(_.toFloat).mean()"
   ]
  },
  {
   "cell_type": "markdown",
   "metadata": {},
   "source": [
    "### Minnesota average"
   ]
  },
  {
   "cell_type": "code",
   "execution_count": 74,
   "metadata": {},
   "outputs": [
    {
     "data": {
      "text/plain": [
       "res54: Double = 18007.62719298246\n"
      ]
     },
     "execution_count": 74,
     "metadata": {},
     "output_type": "execute_result"
    }
   ],
   "source": [
    "mnColleges.filter(x => x(1899) == \"2016\").map(x => x(1504)).filter(x => x != \"NULL\").filter(x => x != \"PrivacySuppressed\").map(_.toFloat).mean()"
   ]
  },
  {
   "cell_type": "markdown",
   "metadata": {},
   "source": [
    "### Regional Peers Average"
   ]
  },
  {
   "cell_type": "code",
   "execution_count": 75,
   "metadata": {},
   "outputs": [
    {
     "data": {
      "text/plain": [
       "res55: Double = 22844.75\n"
      ]
     },
     "execution_count": 75,
     "metadata": {},
     "output_type": "execute_result"
    }
   ],
   "source": [
    "regionalPeers.filter(x => x(1899) == \"2016\").map(x => x(1504)).filter(x => x != \"NULL\").map(_.toFloat).mean()\n"
   ]
  },
  {
   "cell_type": "markdown",
   "metadata": {},
   "source": [
    "### National Peers Average"
   ]
  },
  {
   "cell_type": "code",
   "execution_count": 76,
   "metadata": {},
   "outputs": [
    {
     "data": {
      "text/plain": [
       "res56: Double = 23838.73148148149\n"
      ]
     },
     "execution_count": 76,
     "metadata": {},
     "output_type": "execute_result"
    }
   ],
   "source": [
    "nationalPeers.filter(x => x(1899) == \"2016\").map(x => x(1504)).filter(x => x != \"NULL\").filter(x => x != \"PCTPELL\").filter(x => x != \"PrivacySuppressed\").map(_.toFloat).mean()"
   ]
  },
  {
   "cell_type": "markdown",
   "metadata": {},
   "source": [
    "### National Average"
   ]
  },
  {
   "cell_type": "code",
   "execution_count": 77,
   "metadata": {},
   "outputs": [
    {
     "data": {
      "text/plain": [
       "res57: Double = 16264.447147950095\n"
      ]
     },
     "execution_count": 77,
     "metadata": {},
     "output_type": "execute_result"
    }
   ],
   "source": [
    "scoreCard10Year.filter(x => x(1899) == \"2016\").map(x => x(1504)).filter(x => x != \"NULL\").filter(x => x != \"GRAD_DEBT_MDN\").filter(x => x != \"PrivacySuppressed\").map(_.toFloat).mean()"
   ]
  },
  {
   "cell_type": "markdown",
   "metadata": {},
   "source": [
    "### Catholic Schools Average"
   ]
  },
  {
   "cell_type": "code",
   "execution_count": 78,
   "metadata": {},
   "outputs": [
    {
     "data": {
      "text/plain": [
       "res58: Double = 24354.482673267335\n"
      ]
     },
     "execution_count": 78,
     "metadata": {},
     "output_type": "execute_result"
    }
   ],
   "source": [
    "scoreCard10Year.filter(x => x(1899) == \"2016\").filter(x => x(35) == \"30\").map(x => x(1504)).filter(x => x != \"NULL\").filter(x => x != \"GRAD_DEBT_MDN\").filter(x => x != \"PrivacySuppressed\").map(_.toFloat).mean()"
   ]
  },
  {
   "cell_type": "markdown",
   "metadata": {},
   "source": [
    "---"
   ]
  },
  {
   "cell_type": "markdown",
   "metadata": {},
   "source": [
    "### Create and export RDD to CSV for mapping "
   ]
  },
  {
   "cell_type": "code",
   "execution_count": 84,
   "metadata": {},
   "outputs": [
    {
     "data": {
      "text/plain": [
       "mnColLocHead: Array[String] = Array(Name,Lat,Long,AdmRate)\n",
       "mnLocRDD: org.apache.spark.rdd.RDD[String] = ParallelCollectionRDD[397] at parallelize at <console>:53\n",
       "mnColLocFin: org.apache.spark.rdd.RDD[String] = UnionRDD[398] at union at <console>:54\n"
      ]
     },
     "execution_count": 84,
     "metadata": {},
     "output_type": "execute_result"
    }
   ],
   "source": [
    "val mnColLocHead = Array(\"Name,Lat,Long,AdmRate\")\n",
    "val mnLocRDD = sc.parallelize(mnColLocHead)\n",
    "val mnColLocFin = mnLocRDD.union(mnColLoc)\n",
    "//mnColLocFin.coalesce(1).saveAsTextFile(\"MnSchools\") // only run once"
   ]
  },
  {
   "cell_type": "code",
   "execution_count": null,
   "metadata": {},
   "outputs": [],
   "source": []
  }
 ],
 "metadata": {
  "kernelspec": {
   "display_name": "spylon-kernel",
   "language": "scala",
   "name": "spylon-kernel"
  },
  "language_info": {
   "codemirror_mode": "text/x-scala",
   "file_extension": ".scala",
   "help_links": [
    {
     "text": "MetaKernel Magics",
     "url": "https://github.com/calysto/metakernel/blob/master/metakernel/magics/README.md"
    }
   ],
   "mimetype": "text/x-scala",
   "name": "scala",
   "pygments_lexer": "scala",
   "version": "0.4.1"
  }
 },
 "nbformat": 4,
 "nbformat_minor": 2
}
