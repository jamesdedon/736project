{
 "cells": [
  {
   "cell_type": "code",
   "execution_count": 1,
   "metadata": {},
   "outputs": [
    {
     "data": {
      "text/plain": [
       "Intitializing Scala interpreter ..."
      ]
     },
     "metadata": {},
     "output_type": "display_data"
    },
    {
     "data": {
      "text/plain": [
       "Spark Web UI available at http://10.80.102.113:4040\n",
       "SparkContext available as 'sc' (version = 2.3.1, master = local[*], app id = local-1543604048782)\n",
       "SparkSession available as 'spark'\n"
      ]
     },
     "metadata": {},
     "output_type": "display_data"
    },
    {
     "data": {
      "text/plain": [
       "res0: org.apache.spark.sql.SparkSession = org.apache.spark.sql.SparkSession@165ab729\n"
      ]
     },
     "execution_count": 1,
     "metadata": {},
     "output_type": "execute_result"
    }
   ],
   "source": [
    "spark"
   ]
  },
  {
   "cell_type": "code",
   "execution_count": 2,
   "metadata": {},
   "outputs": [
    {
     "data": {
      "text/plain": [
       "res1: String = 2.3.1\n"
      ]
     },
     "execution_count": 2,
     "metadata": {},
     "output_type": "execute_result"
    }
   ],
   "source": [
    "spark.version"
   ]
  },
  {
   "cell_type": "code",
   "execution_count": 18,
   "metadata": {},
   "outputs": [
    {
     "data": {
      "text/plain": [
       "sqlContext: org.apache.spark.sql.SQLContext = org.apache.spark.sql.SQLContext@7cdaf308\n"
      ]
     },
     "execution_count": 18,
     "metadata": {},
     "output_type": "execute_result"
    }
   ],
   "source": [
    "val sqlContext = new org.apache.spark.sql.SQLContext(sc)"
   ]
  },
  {
   "cell_type": "markdown",
   "metadata": {},
   "source": [
    "# Kaggle Dataset Load"
   ]
  },
  {
   "cell_type": "raw",
   "metadata": {},
   "source": [
    "val input = sc.textFile(\"Scorecard.csv\").map(line =>line.split(\",\"))\n",
    "\n",
    "### Create a header index of the dataset\n",
    "\n",
    "val header = sc.parallelize(input.take(1))\n",
    "\n",
    "val headerIndex = header.map(_.mkString(\",\")).flatMap(line => line.split(\",\")).zipWithIndex\n",
    "\n",
    "headerIndex.coalesce(1).saveAsTextFile(\"index\")\n",
    "\n",
    "Originally, I exported and imported the data. Not sure why.\n",
    "\n",
    "header.map(_.mkString(\",\")).coalesce(1).saveAsTextFile(\"header\")\n",
    "\n",
    "val headerLoad = sc.textFile(\"header.csv\")\n",
    "\n",
    "val headerList= headerLoad.flatMap(line => line.split(\",\"))\n",
    "\n",
    "val headerIndex = headerList.zipWithIndex\n",
    "\n",
    "val idxSat = headerIndex.lookup(\"SAT_AVG\")(0).toInt"
   ]
  },
  {
   "cell_type": "raw",
   "metadata": {},
   "source": [
    "## Count the rows of the kaggle compiled dataset"
   ]
  },
  {
   "cell_type": "raw",
   "metadata": {},
   "source": [
    "input.count()"
   ]
  },
  {
   "cell_type": "raw",
   "metadata": {},
   "source": [
    "input.map( x => x(1)).distinct().count()"
   ]
  },
  {
   "cell_type": "raw",
   "metadata": {},
   "source": [
    "val year = input.map( x => x(1730))\n",
    "\n",
    "year.take(1100).foreach(println)\n",
    "\n",
    "// It looks like there are a lot of blank lines in there early on in the dataset. \n",
    "\n",
    "val notBlankYear = input.filter(x => x(1730) != \"\")\n",
    "\n",
    "notBlankYear.count()"
   ]
  },
  {
   "cell_type": "raw",
   "metadata": {},
   "source": [
    "notBlankYear.map(x => x(1730)).take(20)\n",
    "\n",
    "notBlankYear.filter(x => x(1730) contains \"2013\").count()"
   ]
  },
  {
   "cell_type": "markdown",
   "metadata": {},
   "source": [
    "# DoE Dataset Load concise"
   ]
  },
  {
   "cell_type": "code",
   "execution_count": 3,
   "metadata": {},
   "outputs": [
    {
     "data": {
      "text/plain": [
       "inHeader: org.apache.spark.rdd.RDD[Array[String]] = MapPartitionsRDD[3] at map at <console>:25\n",
       "in2016: org.apache.spark.rdd.RDD[Array[String]] = MapPartitionsRDD[7] at map at <console>:27\n",
       "in2015: org.apache.spark.rdd.RDD[Array[String]] = MapPartitionsRDD[11] at map at <console>:29\n",
       "in2014: org.apache.spark.rdd.RDD[Array[String]] = MapPartitionsRDD[15] at map at <console>:31\n",
       "in2013: org.apache.spark.rdd.RDD[Array[String]] = MapPartitionsRDD[19] at map at <console>:33\n",
       "in2012: org.apache.spark.rdd.RDD[Array[String]] = MapPartitionsRDD[23] at map at <console>:35\n",
       "in2011: org.apache.spark.rdd.RDD[Array[String]] = MapPartitionsRDD[27] at map at <console>:37\n",
       "in2010: org.apache.spark.rdd.RDD[Array[String]] = MapPartitionsRDD[31] at map at <console>:39\n",
       "in2009: org.apache.spark.rdd.RDD[Array[String..."
      ]
     },
     "execution_count": 3,
     "metadata": {},
     "output_type": "execute_result"
    }
   ],
   "source": [
    "val inHeader = sc.textFile(\"MERGED2016_17_PP.csv\").map(x => x + \",YEAR\").map(line =>line.split(\",\"))\n",
    "\n",
    "val in2016 = sc.textFile(\"MERGED2016_17_PP.csv\").map(x => x + \",2016\").map(line =>line.split(\",\"))\n",
    "\n",
    "val in2015 = sc.textFile(\"MERGED2015_16_PP.csv\").map(x => x + \",2015\").map(line =>line.split(\",\"))\n",
    "\n",
    "val in2014 = sc.textFile(\"MERGED2014_15_PP.csv\").map(x => x + \",2014\").map(line =>line.split(\",\"))\n",
    "\n",
    "val in2013 = sc.textFile(\"MERGED2013_14_PP.csv\").map(x => x + \",2013\").map(line =>line.split(\",\"))\n",
    "\n",
    "val in2012 = sc.textFile(\"MERGED2012_13_PP.csv\").map(x => x + \",2012\").map(line =>line.split(\",\"))\n",
    "\n",
    "val in2011 = sc.textFile(\"MERGED2011_12_PP.csv\").map(x => x + \",2011\").map(line =>line.split(\",\"))\n",
    "\n",
    "val in2010 = sc.textFile(\"MERGED2010_11_PP.csv\").map(x => x + \",2010\").map(line =>line.split(\",\"))\n",
    "\n",
    "val in2009 = sc.textFile(\"MERGED2009_10_PP.csv\").map(x => x + \",2009\").map(line =>line.split(\",\"))\n",
    "\n",
    "val in2008 = sc.textFile(\"MERGED2008_09_PP.csv\").map(x => x + \",2008\").map(line =>line.split(\",\"))\n",
    "\n",
    "val in2007 = sc.textFile(\"MERGED2007_08_PP.csv\").map(x => x + \",2007\").map(line =>line.split(\",\"))\n"
   ]
  },
  {
   "cell_type": "markdown",
   "metadata": {},
   "source": [
    "## Compile the 10 year RDD."
   ]
  },
  {
   "cell_type": "code",
   "execution_count": 11,
   "metadata": {},
   "outputs": [
    {
     "data": {
      "text/plain": [
       "scoreCard10Year: org.apache.spark.rdd.RDD[Array[String]] = UnionRDD[59] at union at <console>:40\n",
       "twoYear: org.apache.spark.rdd.RDD[Array[String]] = UnionRDD[60] at union at <console>:41\n",
       "res9: Array[Array[String]] = Array(Array(UNITID, OPEID, OPEID6, INSTNM, CITY, STABBR, ZIP, ACCREDAGENCY, INSTURL, NPCURL, SCH_DEG, HCM2, MAIN, NUMBRANCH, PREDDEG, HIGHDEG, CONTROL, ST_FIPS, REGION, LOCALE, LOCALE2, LATITUDE, LONGITUDE, CCBASIC, CCUGPROF, CCSIZSET, HBCU, PBI, ANNHI, TRIBAL, AANAPII, HSI, NANTI, MENONLY, WOMENONLY, RELAFFIL, ADM_RATE, ADM_RATE_ALL, SATVR25, SATVR75, SATMT25, SATMT75, SATWR25, SATWR75, SATVRMID, SATMTMID, SATWRMID, ACTCM25, ACTCM75, ACTEN25, ACTEN75, ACTMT25, ACTMT75, ACTWR25, ACTWR75, ACTCMMID, ACTENMID, ACTMTMID, ACTWRMID, SAT_AVG, SAT_AVG_ALL, PCIP01, PCIP03, PCIP04, PCI..."
      ]
     },
     "execution_count": 11,
     "metadata": {},
     "output_type": "execute_result"
    }
   ],
   "source": [
    "val scoreCard10Year = sc.union(in2016, in2015, in2014, in2013, in2012, in2011, in2010, in2009, in2008, in2007)\n",
    "val twoYear = in2016.union(in2015)\n",
    "scoreCard10Year.take(1)\n",
    "twoYear.take(1)"
   ]
  },
  {
   "cell_type": "markdown",
   "metadata": {},
   "source": [
    "# Create Parquet file\n",
    "\n",
    "Reduced storage from CSV size of 1.5GB to Parquet file size of 294MB using the Snappy compression method. #thatswow"
   ]
  },
  {
   "cell_type": "code",
   "execution_count": 13,
   "metadata": {},
   "outputs": [
    {
     "data": {
      "text/plain": [
       "dataDF: org.apache.spark.sql.DataFrame = [value: array<string>]\n"
      ]
     },
     "execution_count": 13,
     "metadata": {},
     "output_type": "execute_result"
    }
   ],
   "source": [
    "val dataDF = scoreCard10Year.toDF()                 // convert RDD to DataFrame\n",
    "// dataDF.write.parquet(\"data.parquet\")                // write to parquet once"
   ]
  },
  {
   "cell_type": "markdown",
   "metadata": {},
   "source": [
    "## Create a DF that references the Parquet files."
   ]
  },
  {
   "cell_type": "code",
   "execution_count": 19,
   "metadata": {},
   "outputs": [
    {
     "data": {
      "text/plain": [
       "pqScoreCard10Year: org.apache.spark.sql.DataFrame = [value: array<string>]\n"
      ]
     },
     "execution_count": 19,
     "metadata": {},
     "output_type": "execute_result"
    }
   ],
   "source": [
    "val pqScoreCard10Year = sqlContext.read.parquet(\"data.parquet\")\n"
   ]
  },
  {
   "cell_type": "markdown",
   "metadata": {},
   "source": [
    "# Create a header index of the dataset"
   ]
  },
  {
   "cell_type": "code",
   "execution_count": 14,
   "metadata": {},
   "outputs": [
    {
     "data": {
      "text/plain": [
       "header2016: org.apache.spark.rdd.RDD[Array[String]] = ParallelCollectionRDD[64] at parallelize at <console>:27\n",
       "header2016Index: org.apache.spark.rdd.RDD[(String, Long)] = ZippedWithIndexRDD[67] at zipWithIndex at <console>:29\n"
      ]
     },
     "execution_count": 14,
     "metadata": {},
     "output_type": "execute_result"
    }
   ],
   "source": [
    "val header2016 = sc.parallelize(inHeader.take(1))\n",
    "\n",
    "val header2016Index = header2016.map(_.mkString(\",\")).flatMap(line => line.split(\",\")).zipWithIndex\n",
    "\n",
    "// header2016Index.coalesce(1).saveAsTextFile(\"index\") //Textfiles only made once\n"
   ]
  },
  {
   "cell_type": "markdown",
   "metadata": {},
   "source": [
    "## Count of rows for the compiled DoE Scorecard"
   ]
  },
  {
   "cell_type": "code",
   "execution_count": 15,
   "metadata": {},
   "outputs": [
    {
     "data": {
      "text/plain": [
       "res11: Long = 74181\n"
      ]
     },
     "execution_count": 15,
     "metadata": {},
     "output_type": "execute_result"
    }
   ],
   "source": [
    "scoreCard10Year.count()"
   ]
  },
  {
   "cell_type": "code",
   "execution_count": 16,
   "metadata": {},
   "outputs": [
    {
     "data": {
      "text/plain": [
       "res12: Long = 74181\n"
      ]
     },
     "execution_count": 16,
     "metadata": {},
     "output_type": "execute_result"
    }
   ],
   "source": [
    "dataDF.count()"
   ]
  },
  {
   "cell_type": "markdown",
   "metadata": {},
   "source": [
    "### Number of Schools in the DoE dataset"
   ]
  },
  {
   "cell_type": "code",
   "execution_count": 8,
   "metadata": {},
   "outputs": [
    {
     "data": {
      "text/plain": [
       "res5: Long = 9743\n"
      ]
     },
     "execution_count": 8,
     "metadata": {},
     "output_type": "execute_result"
    }
   ],
   "source": [
    "scoreCard10Year.map(x=> x(1)).distinct().count()"
   ]
  },
  {
   "cell_type": "markdown",
   "metadata": {},
   "source": [
    "# St Thomas RDD  \n",
    "This RDD contains all of the St. Thomas results over the years"
   ]
  },
  {
   "cell_type": "code",
   "execution_count": 23,
   "metadata": {},
   "outputs": [
    {
     "ename": "<console>",
     "evalue": "43: error: value contains is not a member of Any",
     "output_type": "error",
     "traceback": [
      "<console>:43: error: value contains is not a member of Any",
      "       val pqUst = pqScoreCard10Year.filter(x => x(0) contains \"174914\")",
      "                                                      ^",
      ""
     ]
    }
   ],
   "source": [
    "val ust = scoreCard10Year.filter(x => x(0) contains \"174914\")\n",
    "val pqUst = pqScoreCard10Year.filter(x => x(0) contains \"174914\")"
   ]
  },
  {
   "cell_type": "code",
   "execution_count": 22,
   "metadata": {},
   "outputs": [
    {
     "data": {
      "text/plain": [
       "res14: Array[Array[String]] = Array(Array(174914, 00234500, 002345, University of St Thomas, Saint Paul, MN, 55105-1078, Higher Learning Commission, www.stthomas.edu, www.stthomas.edu/financialaid/undergraduate/resources/netpricecalculator/, NULL, 0, 1, 1, 3, 4, 2, 27, 4, 11, NULL, 44.943439, -93.188986, 17, 10, 13, 0, 0, 0, 0, 0, 0, 0, 0, 0, 30, 0.8266, 0.82655521620318, 500, 660, 550, 630, NULL, NULL, 580, 590, NULL, 24, 29, 23, 29, 24, 28, NULL, NULL, 27, 26, 26, NULL, 1204, 1204, 0, 0.0037, 0, 0.0007, 0.0504, 0, 0.0212, 0, 0.0358, 0.0651, 0, 0.0073, 0.0066, 0, 0.0139, 0.0066, 0, 0.0658, 0.0117, 0, 0.0102, 0, 0.0417, 0, 0.0197, 0, 0.0336, 0, 0.0117, 0.0621, 0, 0, 0, 0, 0.0058, 0.0417, 0.4751, 0.0095, 0, 0, 0, 0, 0, 0, 0, 0, 0, 1, 0, 0, 0, 0, 0, 0, 0, 0, 0, 1, 0, 0, 0, 0, 1, 0, 0, 0, ..."
      ]
     },
     "execution_count": 22,
     "metadata": {},
     "output_type": "execute_result"
    }
   ],
   "source": [
    "ust.take(1)"
   ]
  },
  {
   "cell_type": "code",
   "execution_count": 11,
   "metadata": {},
   "outputs": [
    {
     "data": {
      "text/plain": [
       "res7: Long = 10\n"
      ]
     },
     "execution_count": 11,
     "metadata": {},
     "output_type": "execute_result"
    }
   ],
   "source": [
    "ust.count()"
   ]
  },
  {
   "cell_type": "code",
   "execution_count": 13,
   "metadata": {},
   "outputs": [
    {
     "data": {
      "text/plain": [
       "ustHeader: org.apache.spark.rdd.RDD[Array[String]] = UnionRDD[65] at union at <console>:43\n"
      ]
     },
     "execution_count": 13,
     "metadata": {},
     "output_type": "execute_result"
    }
   ],
   "source": [
    "val ustHeader = header2016.union(ust)\n",
    "// ustHeader.map(_.mkString(\",\")).coalesce(1).saveAsTextFile(\"ustHeader\")"
   ]
  },
  {
   "cell_type": "markdown",
   "metadata": {},
   "source": [
    "# Regional Peers RDD\n",
    "\n",
    "This RDD filters region 4 (upper midwest/plains), Schools that offer graduate degrees as the highest degree, and a carnegie classification of 4 year, medium size, highly residential. "
   ]
  },
  {
   "cell_type": "code",
   "execution_count": 14,
   "metadata": {},
   "outputs": [
    {
     "data": {
      "text/plain": [
       "regionalPeers: org.apache.spark.rdd.RDD[Array[String]] = MapPartitionsRDD[71] at filter at <console>:38\n"
      ]
     },
     "execution_count": 14,
     "metadata": {},
     "output_type": "execute_result"
    }
   ],
   "source": [
    "val regionalPeers = scoreCard10Year.filter(x => x(18) == \"4\").filter(x => x(15) == \"4\").filter(x => x(25) == \"13\")"
   ]
  },
  {
   "cell_type": "code",
   "execution_count": 15,
   "metadata": {},
   "outputs": [
    {
     "data": {
      "text/plain": [
       "res10: Long = 20\n"
      ]
     },
     "execution_count": 15,
     "metadata": {},
     "output_type": "execute_result"
    }
   ],
   "source": [
    "regionalPeers.count()"
   ]
  },
  {
   "cell_type": "markdown",
   "metadata": {},
   "source": [
    "### Average SAT score for peers in the region. Ours is 1204"
   ]
  },
  {
   "cell_type": "code",
   "execution_count": 38,
   "metadata": {},
   "outputs": [
    {
     "data": {
      "text/plain": [
       "res31: Array[String] = Array(2016)\n"
      ]
     },
     "execution_count": 38,
     "metadata": {},
     "output_type": "execute_result"
    }
   ],
   "source": [
    "scoreCard10Year.map(x => x(1899)).map(_.mkString(\"\")).take(1) // I verified index 1899 in all of my load RDDs"
   ]
  },
  {
   "cell_type": "code",
   "execution_count": 39,
   "metadata": {},
   "outputs": [
    {
     "data": {
      "text/plain": [
       "res32: Long = 18\n"
      ]
     },
     "execution_count": 39,
     "metadata": {},
     "output_type": "execute_result"
    }
   ],
   "source": [
    "regionalPeers.filter(x => x(1899) == \"2016\").map(x => x(59)).filter(x => x != \"NULL\").count()\n"
   ]
  },
  {
   "cell_type": "code",
   "execution_count": 40,
   "metadata": {},
   "outputs": [
    {
     "data": {
      "text/plain": [
       "res33: Double = 1080.7222222222224\n"
      ]
     },
     "execution_count": 40,
     "metadata": {},
     "output_type": "execute_result"
    }
   ],
   "source": [
    "regionalPeers.map(x => x(59)).filter(x => x != \"NULL\").map(_.toInt).mean()\n"
   ]
  },
  {
   "cell_type": "markdown",
   "metadata": {},
   "source": [
    "# Create an index of the header "
   ]
  },
  {
   "cell_type": "markdown",
   "metadata": {},
   "source": [
    "Really had a tough time figuring out how to get the header loaded as just a string. Loading it from the original source results in type RDD[Array[String]], so I ended up using a CSV file that I outputed from the original input. Ended up just needing a **flatMap** to keep it in the correct format. "
   ]
  },
  {
   "cell_type": "markdown",
   "metadata": {},
   "source": [
    "# Minnesota Schools  \n",
    "This rdd contains all of the Minnesota universities for a statewide comparison"
   ]
  },
  {
   "cell_type": "code",
   "execution_count": null,
   "metadata": {},
   "outputs": [],
   "source": [
    "val mnColleges = scoreCard10Year.filter( x => x(5) contains \"MN\").filter( x => x(1899) contains \"2016\")"
   ]
  },
  {
   "cell_type": "code",
   "execution_count": null,
   "metadata": {},
   "outputs": [],
   "source": [
    "val mnColLoc = mnColleges.filter(x => x(1899) contains \"2016\").filter(x => x(36) != \"NULL\").map(x => x(3) + \",\" + x(21) + \",\" + x(22) + \",\" + x(36))"
   ]
  },
  {
   "cell_type": "code",
   "execution_count": null,
   "metadata": {},
   "outputs": [],
   "source": [
    "// mnColLoc.take(5).foreach(println) // Only needs to run once."
   ]
  },
  {
   "cell_type": "markdown",
   "metadata": {},
   "source": [
    "### Create and export RDD to CSV for mapping "
   ]
  },
  {
   "cell_type": "code",
   "execution_count": null,
   "metadata": {},
   "outputs": [],
   "source": [
    "val mnColLocHead = Array(\"Name,Lat,Long,AdmRate\")\n",
    "val mnLocRDD = sc.parallelize(mnColLocHead)\n",
    "val mnColLocFin = mnLocRDD.union(mnColLoc)\n",
    "//mnColLocFin.coalesce(1).saveAsTextFile(\"MnSchools\") // only run once"
   ]
  },
  {
   "cell_type": "raw",
   "metadata": {},
   "source": [
    "%%python\n",
    "\n",
    "%matplotlib inline\n",
    "\n",
    "import matplotlib.pyplot as plt\n",
    "import numpy as np\n",
    "import pandas as pd\n",
    "from mpl_toolkits.basemap import Basemap\n",
    "\n",
    "\n",
    "//mnAdmDf = pd.read_csv(\"mnColLocAdm.csv\")\n",
    "\n",
    "fig = pt.figure(figsize=(8, 8))\n",
    "m = Basemap(projection= 'lcc', resolution=None,\n",
    "           width=8E6, height=8E6,\n",
    "           lat_0=44, lon_0=-93,)\n",
    "m.etopo(scale=0.5, alpha=0.5)\n",
    "\n",
    "# Map (long, lat) to (x, y) for plotting\n",
    "x, y = m(-93.188986, 44.943439)\n",
    "plt.plot(x, y, 'ok', markersize=5)\n",
    "plt.text(x, y, 'UniversityofStThomas', fontsize=12);\n",
    "\n",
    "\n",
    "\n",
    "\n"
   ]
  },
  {
   "cell_type": "code",
   "execution_count": null,
   "metadata": {},
   "outputs": [],
   "source": []
  },
  {
   "cell_type": "code",
   "execution_count": null,
   "metadata": {},
   "outputs": [],
   "source": []
  },
  {
   "cell_type": "code",
   "execution_count": null,
   "metadata": {},
   "outputs": [],
   "source": []
  },
  {
   "cell_type": "code",
   "execution_count": null,
   "metadata": {},
   "outputs": [],
   "source": []
  },
  {
   "cell_type": "code",
   "execution_count": null,
   "metadata": {},
   "outputs": [],
   "source": []
  },
  {
   "cell_type": "code",
   "execution_count": null,
   "metadata": {},
   "outputs": [],
   "source": []
  },
  {
   "cell_type": "code",
   "execution_count": null,
   "metadata": {},
   "outputs": [],
   "source": []
  },
  {
   "cell_type": "code",
   "execution_count": null,
   "metadata": {},
   "outputs": [],
   "source": []
  }
 ],
 "metadata": {
  "kernelspec": {
   "display_name": "spylon-kernel",
   "language": "scala",
   "name": "spylon-kernel"
  },
  "language_info": {
   "codemirror_mode": "text/x-scala",
   "file_extension": ".scala",
   "help_links": [
    {
     "text": "MetaKernel Magics",
     "url": "https://github.com/calysto/metakernel/blob/master/metakernel/magics/README.md"
    }
   ],
   "mimetype": "text/x-scala",
   "name": "scala",
   "pygments_lexer": "scala",
   "version": "0.4.1"
  }
 },
 "nbformat": 4,
 "nbformat_minor": 2
}
