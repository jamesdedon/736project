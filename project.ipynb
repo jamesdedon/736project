{
 "cells": [
  {
   "cell_type": "code",
   "execution_count": 1,
   "metadata": {},
   "outputs": [
    {
     "data": {
      "text/plain": [
       "Intitializing Scala interpreter ..."
      ]
     },
     "metadata": {},
     "output_type": "display_data"
    },
    {
     "data": {
      "text/plain": [
       "Spark Web UI available at http://xps13.lan:4040\n",
       "SparkContext available as 'sc' (version = 2.3.1, master = local[*], app id = local-1543439624774)\n",
       "SparkSession available as 'spark'\n"
      ]
     },
     "metadata": {},
     "output_type": "display_data"
    },
    {
     "data": {
      "text/plain": [
       "res0: org.apache.spark.sql.SparkSession = org.apache.spark.sql.SparkSession@21e3eb6e\n"
      ]
     },
     "execution_count": 1,
     "metadata": {},
     "output_type": "execute_result"
    }
   ],
   "source": [
    "spark"
   ]
  },
  {
   "cell_type": "code",
   "execution_count": 2,
   "metadata": {},
   "outputs": [
    {
     "data": {
      "text/plain": [
       "res1: String = 2.3.1\n"
      ]
     },
     "execution_count": 2,
     "metadata": {},
     "output_type": "execute_result"
    }
   ],
   "source": [
    "spark.version"
   ]
  },
  {
   "cell_type": "markdown",
   "metadata": {},
   "source": [
    "# Kaggle Dataset Load"
   ]
  },
  {
   "cell_type": "raw",
   "metadata": {},
   "source": [
    "val input = sc.textFile(\"Scorecard.csv\").map(line =>line.split(\",\"))\n",
    "\n",
    "### Create a header index of the dataset\n",
    "\n",
    "val header = sc.parallelize(input.take(1))\n",
    "\n",
    "val headerIndex = header.map(_.mkString(\",\")).flatMap(line => line.split(\",\")).zipWithIndex\n",
    "\n",
    "headerIndex.coalesce(1).saveAsTextFile(\"index\")\n",
    "\n",
    "Originally, I exported and imported the data. Not sure why.\n",
    "\n",
    "header.map(_.mkString(\",\")).coalesce(1).saveAsTextFile(\"header\")\n",
    "\n",
    "val headerLoad = sc.textFile(\"header.csv\")\n",
    "\n",
    "val headerList= headerLoad.flatMap(line => line.split(\",\"))\n",
    "\n",
    "val headerIndex = headerList.zipWithIndex\n",
    "\n",
    "val idxSat = headerIndex.lookup(\"SAT_AVG\")(0).toInt"
   ]
  },
  {
   "cell_type": "raw",
   "metadata": {},
   "source": [
    "## Count the rows of the kaggle compiled dataset"
   ]
  },
  {
   "cell_type": "raw",
   "metadata": {},
   "source": [
    "input.count()"
   ]
  },
  {
   "cell_type": "raw",
   "metadata": {},
   "source": [
    "input.map( x => x(1)).distinct().count()"
   ]
  },
  {
   "cell_type": "raw",
   "metadata": {},
   "source": [
    "val year = input.map( x => x(1730))\n",
    "\n",
    "year.take(1100).foreach(println)\n",
    "\n",
    "// It looks like there are a lot of blank lines in there early on in the dataset. \n",
    "\n",
    "val notBlankYear = input.filter(x => x(1730) != \"\")\n",
    "\n",
    "notBlankYear.count()"
   ]
  },
  {
   "cell_type": "raw",
   "metadata": {},
   "source": [
    "notBlankYear.map(x => x(1730)).take(20)\n",
    "\n",
    "notBlankYear.filter(x => x(1730) contains \"2013\").count()"
   ]
  },
  {
   "cell_type": "markdown",
   "metadata": {},
   "source": [
    "# DoE Dataset Load concise"
   ]
  },
  {
   "cell_type": "code",
   "execution_count": 3,
   "metadata": {},
   "outputs": [
    {
     "data": {
      "text/plain": [
       "inHeader: org.apache.spark.rdd.RDD[Array[String]] = MapPartitionsRDD[3] at map at <console>:25\n",
       "in2016: org.apache.spark.rdd.RDD[Array[String]] = MapPartitionsRDD[7] at map at <console>:27\n",
       "in2015: org.apache.spark.rdd.RDD[Array[String]] = MapPartitionsRDD[11] at map at <console>:29\n",
       "in2014: org.apache.spark.rdd.RDD[Array[String]] = MapPartitionsRDD[15] at map at <console>:31\n",
       "in2013: org.apache.spark.rdd.RDD[Array[String]] = MapPartitionsRDD[19] at map at <console>:33\n",
       "in2012: org.apache.spark.rdd.RDD[Array[String]] = MapPartitionsRDD[23] at map at <console>:35\n",
       "in2011: org.apache.spark.rdd.RDD[Array[String]] = MapPartitionsRDD[27] at map at <console>:37\n",
       "in2010: org.apache.spark.rdd.RDD[Array[String]] = MapPartitionsRDD[31] at map at <console>:39\n",
       "in2009: org.apache.spark.rdd.RDD[Array[String..."
      ]
     },
     "execution_count": 3,
     "metadata": {},
     "output_type": "execute_result"
    }
   ],
   "source": [
    "val inHeader = sc.textFile(\"MERGED2016_17_PP.csv\").map(x => x + \",YEAR\").map(line =>line.split(\",\"))\n",
    "\n",
    "val in2016 = sc.textFile(\"MERGED2016_17_PP.csv\").map(x => x + \",2016\").map(line =>line.split(\",\"))\n",
    "\n",
    "val in2015 = sc.textFile(\"MERGED2015_16_PP.csv\").map(x => x + \",2015\").map(line =>line.split(\",\"))\n",
    "\n",
    "val in2014 = sc.textFile(\"MERGED2014_15_PP.csv\").map(x => x + \",2014\").map(line =>line.split(\",\"))\n",
    "\n",
    "val in2013 = sc.textFile(\"MERGED2013_14_PP.csv\").map(x => x + \",2013\").map(line =>line.split(\",\"))\n",
    "\n",
    "val in2012 = sc.textFile(\"MERGED2012_13_PP.csv\").map(x => x + \",2012\").map(line =>line.split(\",\"))\n",
    "\n",
    "val in2011 = sc.textFile(\"MERGED2011_12_PP.csv\").map(x => x + \",2011\").map(line =>line.split(\",\"))\n",
    "\n",
    "val in2010 = sc.textFile(\"MERGED2010_11_PP.csv\").map(x => x + \",2010\").map(line =>line.split(\",\"))\n",
    "\n",
    "val in2009 = sc.textFile(\"MERGED2009_10_PP.csv\").map(x => x + \",2009\").map(line =>line.split(\",\"))\n",
    "\n",
    "val in2008 = sc.textFile(\"MERGED2008_09_PP.csv\").map(x => x + \",2008\").map(line =>line.split(\",\"))\n",
    "\n",
    "val in2007 = sc.textFile(\"MERGED2007_08_PP.csv\").map(x => x + \",2007\").map(line =>line.split(\",\"))\n"
   ]
  },
  {
   "cell_type": "markdown",
   "metadata": {},
   "source": [
    "## Compile the 10 year RDD."
   ]
  },
  {
   "cell_type": "code",
   "execution_count": 4,
   "metadata": {},
   "outputs": [
    {
     "data": {
      "text/plain": [
       "scoreCard10Year: org.apache.spark.rdd.RDD[Array[String]] = UnionRDD[44] at union at <console>:36\n",
       "twoYear: org.apache.spark.rdd.RDD[Array[String]] = UnionRDD[45] at union at <console>:37\n",
       "res2: Array[Array[String]] = Array(Array(UNITID, OPEID, OPEID6, INSTNM, CITY, STABBR, ZIP, ACCREDAGENCY, INSTURL, NPCURL, SCH_DEG, HCM2, MAIN, NUMBRANCH, PREDDEG, HIGHDEG, CONTROL, ST_FIPS, REGION, LOCALE, LOCALE2, LATITUDE, LONGITUDE, CCBASIC, CCUGPROF, CCSIZSET, HBCU, PBI, ANNHI, TRIBAL, AANAPII, HSI, NANTI, MENONLY, WOMENONLY, RELAFFIL, ADM_RATE, ADM_RATE_ALL, SATVR25, SATVR75, SATMT25, SATMT75, SATWR25, SATWR75, SATVRMID, SATMTMID, SATWRMID, ACTCM25, ACTCM75, ACTEN25, ACTEN75, ACTMT25, ACTMT75, ACTWR25, ACTWR75, ACTCMMID, ACTENMID, ACTMTMID, ACTWRMID, SAT_AVG, SAT_AVG_ALL, PCIP01, PCIP03, PCIP04, PCI..."
      ]
     },
     "execution_count": 4,
     "metadata": {},
     "output_type": "execute_result"
    }
   ],
   "source": [
    "val scoreCard10Year = sc.union(in2016, in2015, in2014, in2013, in2012, in2011, in2010, in2009, in2008, in2007)\n",
    "val twoYear = in2016.union(in2015)\n",
    "scoreCard10Year.take(1)\n",
    "twoYear.take(1)"
   ]
  },
  {
   "cell_type": "markdown",
   "metadata": {},
   "source": [
    "### Create a header index of the dataset"
   ]
  },
  {
   "cell_type": "code",
   "execution_count": 6,
   "metadata": {},
   "outputs": [
    {
     "data": {
      "text/plain": [
       "header2016: org.apache.spark.rdd.RDD[Array[String]] = ParallelCollectionRDD[52] at parallelize at <console>:27\n",
       "header2016Index: org.apache.spark.rdd.RDD[(String, Long)] = ZippedWithIndexRDD[55] at zipWithIndex at <console>:29\n"
      ]
     },
     "execution_count": 6,
     "metadata": {},
     "output_type": "execute_result"
    }
   ],
   "source": [
    "val header2016 = sc.parallelize(inHeader.take(1))\n",
    "\n",
    "val header2016Index = header2016.map(_.mkString(\",\")).flatMap(line => line.split(\",\")).zipWithIndex\n",
    "\n",
    "// header2016Index.coalesce(1).saveAsTextFile(\"index\") //Textfiles only made once\n"
   ]
  },
  {
   "cell_type": "markdown",
   "metadata": {},
   "source": [
    "## Count of rows for the compiled DoE Scorecard"
   ]
  },
  {
   "cell_type": "code",
   "execution_count": 7,
   "metadata": {},
   "outputs": [
    {
     "data": {
      "text/plain": [
       "res4: Long = 74181\n"
      ]
     },
     "execution_count": 7,
     "metadata": {},
     "output_type": "execute_result"
    }
   ],
   "source": [
    "scoreCard10Year.count()"
   ]
  },
  {
   "cell_type": "markdown",
   "metadata": {},
   "source": [
    "### Number of Schools in the DoE dataset"
   ]
  },
  {
   "cell_type": "code",
   "execution_count": 8,
   "metadata": {},
   "outputs": [
    {
     "data": {
      "text/plain": [
       "res5: Long = 9743\n"
      ]
     },
     "execution_count": 8,
     "metadata": {},
     "output_type": "execute_result"
    }
   ],
   "source": [
    "scoreCard10Year.map(x=> x(1)).distinct().count()"
   ]
  },
  {
   "cell_type": "markdown",
   "metadata": {},
   "source": [
    "# St Thomas RDD  \n",
    "This RDD contains all of the St. Thomas results over the years"
   ]
  },
  {
   "cell_type": "code",
   "execution_count": 9,
   "metadata": {},
   "outputs": [
    {
     "data": {
      "text/plain": [
       "ust: org.apache.spark.rdd.RDD[Array[String]] = MapPartitionsRDD[60] at filter at <console>:38\n"
      ]
     },
     "execution_count": 9,
     "metadata": {},
     "output_type": "execute_result"
    }
   ],
   "source": [
    "val ust = scoreCard10Year.filter(x => x(0) contains \"174914\")"
   ]
  },
  {
   "cell_type": "code",
   "execution_count": 10,
   "metadata": {},
   "outputs": [],
   "source": [
    "//ust.take(1)"
   ]
  },
  {
   "cell_type": "code",
   "execution_count": 11,
   "metadata": {},
   "outputs": [
    {
     "data": {
      "text/plain": [
       "res7: Long = 10\n"
      ]
     },
     "execution_count": 11,
     "metadata": {},
     "output_type": "execute_result"
    }
   ],
   "source": [
    "ust.count()"
   ]
  },
  {
   "cell_type": "code",
   "execution_count": 13,
   "metadata": {},
   "outputs": [
    {
     "data": {
      "text/plain": [
       "ustHeader: org.apache.spark.rdd.RDD[Array[String]] = UnionRDD[65] at union at <console>:43\n"
      ]
     },
     "execution_count": 13,
     "metadata": {},
     "output_type": "execute_result"
    }
   ],
   "source": [
    "val ustHeader = header2016.union(ust)\n",
    "// ustHeader.map(_.mkString(\",\")).coalesce(1).saveAsTextFile(\"ustHeader\")"
   ]
  },
  {
   "cell_type": "markdown",
   "metadata": {},
   "source": [
    "# Regional Peers RDD\n",
    "\n",
    "This RDD filters region 4 (upper midwest/plains), Schools that offer graduate degrees as the highest degree, and a carnegie classification of 4 year, medium size, highly residential. "
   ]
  },
  {
   "cell_type": "code",
   "execution_count": 14,
   "metadata": {},
   "outputs": [
    {
     "data": {
      "text/plain": [
       "regionalPeers: org.apache.spark.rdd.RDD[Array[String]] = MapPartitionsRDD[71] at filter at <console>:38\n"
      ]
     },
     "execution_count": 14,
     "metadata": {},
     "output_type": "execute_result"
    }
   ],
   "source": [
    "val regionalPeers = scoreCard10Year.filter(x => x(18) == \"4\").filter(x => x(15) == \"4\").filter(x => x(25) == \"13\")"
   ]
  },
  {
   "cell_type": "code",
   "execution_count": 15,
   "metadata": {},
   "outputs": [
    {
     "data": {
      "text/plain": [
       "res10: Long = 20\n"
      ]
     },
     "execution_count": 15,
     "metadata": {},
     "output_type": "execute_result"
    }
   ],
   "source": [
    "regionalPeers.count()"
   ]
  },
  {
   "cell_type": "markdown",
   "metadata": {},
   "source": [
    "### Average SAT score for peers in the region. Ours is 1204"
   ]
  },
  {
   "cell_type": "code",
   "execution_count": 38,
   "metadata": {},
   "outputs": [
    {
     "data": {
      "text/plain": [
       "res31: Array[String] = Array(2016)\n"
      ]
     },
     "execution_count": 38,
     "metadata": {},
     "output_type": "execute_result"
    }
   ],
   "source": [
    "scoreCard10Year.map(x => x(1899)).map(_.mkString(\"\")).take(1) // I verified index 1899 in all of my load RDDs"
   ]
  },
  {
   "cell_type": "code",
   "execution_count": 16,
   "metadata": {},
   "outputs": [
    {
     "ename": "org.apache.spark.SparkException",
     "evalue": " Job aborted due to stage failure: Task 0 in stage 12.0 failed 1 times, most recent failure: Lost task 0.0 in stage 12.0 (TID 241, localhost, executor driver): java.lang.StringIndexOutOfBoundsException: String index out of range: 1899",
     "output_type": "error",
     "traceback": [
      "org.apache.spark.SparkException: Job aborted due to stage failure: Task 0 in stage 12.0 failed 1 times, most recent failure: Lost task 0.0 in stage 12.0 (TID 241, localhost, executor driver): java.lang.StringIndexOutOfBoundsException: String index out of range: 1899",
      "\tat java.lang.String.charAt(String.java:658)",
      "\tat scala.collection.immutable.StringOps$.apply$extension(StringOps.scala:37)",
      "\tat $anonfun$3.apply(<console>:42)",
      "\tat $anonfun$3.apply(<console>:42)",
      "\tat scala.collection.Iterator$$anon$13.hasNext(Iterator.scala:463)",
      "\tat org.apache.spark.util.Utils$.getIteratorSize(Utils.scala:1836)",
      "\tat org.apache.spark.rdd.RDD$$anonfun$count$1.apply(RDD.scala:1162)",
      "\tat org.apache.spark.rdd.RDD$$anonfun$count$1.apply(RDD.scala:1162)",
      "\tat org.apache.spark.SparkContext$$anonfun$runJob$5.apply(SparkContext.scala:2074)",
      "\tat org.apache.spark.SparkContext$$anonfun$runJob$5.apply(SparkContext.scala:2074)",
      "\tat org.apache.spark.scheduler.ResultTask.runTask(ResultTask.scala:87)",
      "\tat org.apache.spark.scheduler.Task.run(Task.scala:109)",
      "\tat org.apache.spark.executor.Executor$TaskRunner.run(Executor.scala:345)",
      "\tat java.util.concurrent.ThreadPoolExecutor.runWorker(ThreadPoolExecutor.java:1149)",
      "\tat java.util.concurrent.ThreadPoolExecutor$Worker.run(ThreadPoolExecutor.java:624)",
      "\tat java.lang.Thread.run(Thread.java:748)",
      "",
      "Driver stacktrace:",
      "  at org.apache.spark.scheduler.DAGScheduler.org$apache$spark$scheduler$DAGScheduler$$failJobAndIndependentStages(DAGScheduler.scala:1602)",
      "  at org.apache.spark.scheduler.DAGScheduler$$anonfun$abortStage$1.apply(DAGScheduler.scala:1590)",
      "  at org.apache.spark.scheduler.DAGScheduler$$anonfun$abortStage$1.apply(DAGScheduler.scala:1589)",
      "  at scala.collection.mutable.ResizableArray$class.foreach(ResizableArray.scala:59)",
      "  at scala.collection.mutable.ArrayBuffer.foreach(ArrayBuffer.scala:48)",
      "  at org.apache.spark.scheduler.DAGScheduler.abortStage(DAGScheduler.scala:1589)",
      "  at org.apache.spark.scheduler.DAGScheduler$$anonfun$handleTaskSetFailed$1.apply(DAGScheduler.scala:831)",
      "  at org.apache.spark.scheduler.DAGScheduler$$anonfun$handleTaskSetFailed$1.apply(DAGScheduler.scala:831)",
      "  at scala.Option.foreach(Option.scala:257)",
      "  at org.apache.spark.scheduler.DAGScheduler.handleTaskSetFailed(DAGScheduler.scala:831)",
      "  at org.apache.spark.scheduler.DAGSchedulerEventProcessLoop.doOnReceive(DAGScheduler.scala:1823)",
      "  at org.apache.spark.scheduler.DAGSchedulerEventProcessLoop.onReceive(DAGScheduler.scala:1772)",
      "  at org.apache.spark.scheduler.DAGSchedulerEventProcessLoop.onReceive(DAGScheduler.scala:1761)",
      "  at org.apache.spark.util.EventLoop$$anon$1.run(EventLoop.scala:48)",
      "  at org.apache.spark.scheduler.DAGScheduler.runJob(DAGScheduler.scala:642)",
      "  at org.apache.spark.SparkContext.runJob(SparkContext.scala:2034)",
      "  at org.apache.spark.SparkContext.runJob(SparkContext.scala:2055)",
      "  at org.apache.spark.SparkContext.runJob(SparkContext.scala:2074)",
      "  at org.apache.spark.SparkContext.runJob(SparkContext.scala:2099)",
      "  at org.apache.spark.rdd.RDD.count(RDD.scala:1162)",
      "  ... 37 elided",
      "Caused by: java.lang.StringIndexOutOfBoundsException: String index out of range: 1899",
      "  at java.lang.String.charAt(String.java:658)",
      "  at scala.collection.immutable.StringOps$.apply$extension(StringOps.scala:37)",
      "  at $anonfun$3.apply(<console>:42)",
      "  at $anonfun$3.apply(<console>:42)",
      "  at scala.collection.Iterator$$anon$13.hasNext(Iterator.scala:463)",
      "  at org.apache.spark.util.Utils$.getIteratorSize(Utils.scala:1836)",
      "  at org.apache.spark.rdd.RDD$$anonfun$count$1.apply(RDD.scala:1162)",
      "  at org.apache.spark.rdd.RDD$$anonfun$count$1.apply(RDD.scala:1162)",
      "  at org.apache.spark.SparkContext$$anonfun$runJob$5.apply(SparkContext.scala:2074)",
      "  at org.apache.spark.SparkContext$$anonfun$runJob$5.apply(SparkContext.scala:2074)",
      "  at org.apache.spark.scheduler.ResultTask.runTask(ResultTask.scala:87)",
      "  at org.apache.spark.scheduler.Task.run(Task.scala:109)",
      "  at org.apache.spark.executor.Executor$TaskRunner.run(Executor.scala:345)",
      "  at java.util.concurrent.ThreadPoolExecutor.runWorker(ThreadPoolExecutor.java:1149)",
      "  at java.util.concurrent.ThreadPoolExecutor$Worker.run(ThreadPoolExecutor.java:624)",
      "  ... 1 more",
      ""
     ]
    }
   ],
   "source": [
    "regionalPeers.map(x => x(59)).filter(x => x != \"NULL\").filter(x => x(1899) == \"2016\").count()\n"
   ]
  },
  {
   "cell_type": "code",
   "execution_count": 19,
   "metadata": {},
   "outputs": [
    {
     "data": {
      "text/plain": [
       "res14: Double = 1080.7222222222224\n"
      ]
     },
     "execution_count": 19,
     "metadata": {},
     "output_type": "execute_result"
    }
   ],
   "source": [
    "regionalPeers.map(x => x(59)).filter(x => x != \"NULL\").map(_.toInt).mean()\n"
   ]
  },
  {
   "cell_type": "markdown",
   "metadata": {},
   "source": [
    "# Create an index of the header "
   ]
  },
  {
   "cell_type": "markdown",
   "metadata": {},
   "source": [
    "Really had a tough time figuring out how to get the header loaded as just a string. Loading it from the original source results in type RDD[Array[String]], so I ended up using a CSV file that I outputed from the original input. Ended up just needing a **flatMap** to keep it in the correct format. "
   ]
  },
  {
   "cell_type": "markdown",
   "metadata": {},
   "source": [
    "# Minnesota Schools  \n",
    "This rdd contains all of the Minnesota universities for a statewide comparison"
   ]
  },
  {
   "cell_type": "code",
   "execution_count": null,
   "metadata": {},
   "outputs": [],
   "source": [
    "val mnColleges = scoreCard10Year.filter( x => x(5) contains \"MN\").filter( x => x(1899) contains \"2016\")"
   ]
  },
  {
   "cell_type": "code",
   "execution_count": null,
   "metadata": {},
   "outputs": [],
   "source": [
    "val mnColLoc = mnColleges.filter(x => x(1899) contains \"2016\").filter(x => x(36) != \"NULL\").map(x => x(3) + \",\" + x(21) + \",\" + x(22) + \",\" + x(36))"
   ]
  },
  {
   "cell_type": "code",
   "execution_count": null,
   "metadata": {},
   "outputs": [],
   "source": [
    "// mnColLoc.take(5).foreach(println) // Only needs to run once."
   ]
  },
  {
   "cell_type": "markdown",
   "metadata": {},
   "source": [
    "### Create and export RDD to CSV for mapping "
   ]
  },
  {
   "cell_type": "code",
   "execution_count": null,
   "metadata": {},
   "outputs": [],
   "source": [
    "val mnColLocHead = Array(\"Name,Lat,Long,AdmRate\")\n",
    "val mnLocRDD = sc.parallelize(mnColLocHead)\n",
    "val mnColLocFin = mnLocRDD.union(mnColLoc)\n",
    "//mnColLocFin.coalesce(1).saveAsTextFile(\"MnSchools\") // only run once"
   ]
  },
  {
   "cell_type": "raw",
   "metadata": {},
   "source": [
    "%%python\n",
    "\n",
    "%matplotlib inline\n",
    "\n",
    "import matplotlib.pyplot as plt\n",
    "import numpy as np\n",
    "import pandas as pd\n",
    "from mpl_toolkits.basemap import Basemap\n",
    "\n",
    "\n",
    "//mnAdmDf = pd.read_csv(\"mnColLocAdm.csv\")\n",
    "\n",
    "fig = pt.figure(figsize=(8, 8))\n",
    "m = Basemap(projection= 'lcc', resolution=None,\n",
    "           width=8E6, height=8E6,\n",
    "           lat_0=44, lon_0=-93,)\n",
    "m.etopo(scale=0.5, alpha=0.5)\n",
    "\n",
    "# Map (long, lat) to (x, y) for plotting\n",
    "x, y = m(-93.188986, 44.943439)\n",
    "plt.plot(x, y, 'ok', markersize=5)\n",
    "plt.text(x, y, 'UniversityofStThomas', fontsize=12);\n",
    "\n",
    "\n",
    "\n",
    "\n"
   ]
  },
  {
   "cell_type": "code",
   "execution_count": null,
   "metadata": {},
   "outputs": [],
   "source": []
  },
  {
   "cell_type": "code",
   "execution_count": null,
   "metadata": {},
   "outputs": [],
   "source": []
  },
  {
   "cell_type": "code",
   "execution_count": null,
   "metadata": {},
   "outputs": [],
   "source": []
  },
  {
   "cell_type": "code",
   "execution_count": null,
   "metadata": {},
   "outputs": [],
   "source": []
  },
  {
   "cell_type": "code",
   "execution_count": null,
   "metadata": {},
   "outputs": [],
   "source": []
  },
  {
   "cell_type": "code",
   "execution_count": null,
   "metadata": {},
   "outputs": [],
   "source": []
  },
  {
   "cell_type": "code",
   "execution_count": null,
   "metadata": {},
   "outputs": [],
   "source": []
  },
  {
   "cell_type": "code",
   "execution_count": null,
   "metadata": {},
   "outputs": [],
   "source": []
  }
 ],
 "metadata": {
  "kernelspec": {
   "display_name": "spylon-kernel",
   "language": "scala",
   "name": "spylon-kernel"
  },
  "language_info": {
   "codemirror_mode": "text/x-scala",
   "file_extension": ".scala",
   "help_links": [
    {
     "text": "MetaKernel Magics",
     "url": "https://github.com/calysto/metakernel/blob/master/metakernel/magics/README.md"
    }
   ],
   "mimetype": "text/x-scala",
   "name": "scala",
   "pygments_lexer": "scala",
   "version": "0.4.1"
  }
 },
 "nbformat": 4,
 "nbformat_minor": 2
}
